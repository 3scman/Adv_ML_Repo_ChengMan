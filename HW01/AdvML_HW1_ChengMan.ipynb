{
 "cells": [
  {
   "cell_type": "markdown",
   "metadata": {
    "colab_type": "text",
    "id": "6JNmQa7gt-Q4"
   },
   "source": [
    "# Advanced Machine Learning - Assignment #1\n",
    "## U.N. World Happiness Data Report\n",
    "Cheng Man  \n",
    "2020/02/11\n",
    "\n"
   ]
  },
  {
   "cell_type": "markdown",
   "metadata": {
    "colab_type": "text",
    "id": "29kMxFSNu1hn"
   },
   "source": [
    "## Report Objective: Predict World Happiness Rankings \n",
    "\n",
    "What makes the citizens of one country more happy than the citizens of other countries?  Do variables measuing perceptions of corruption, GDP, maintaining a healthy lifestyle, or social support associate with a country's happiness ranking?  \n",
    "\n",
    "This report uses the United Nation's World Happiness Rankings country level data to experiment with models that predict happiness rankings well.\n",
    "\n",
    "\n",
    "---\n",
    "\n",
    "**Data**: 2019 World Happiness Survey Rankings + ISO-3166-Countries-with-Regional-Codes\n",
    "\n",
    "**Features**\n",
    "\n",
    "*   Region\n",
    "*   GDP per capita\n",
    "*   Social support\n",
    "*   Healthy life expectancy\n",
    "*   Freedom to make life choices\n",
    "*   Generosity\n",
    "*   Perceptions of corruption\n",
    "\n",
    "**Target**\n",
    "*   Happiness_level (Very High = Top 20% and Very Low = Bottom 20%)\n",
    "\n",
    "Source: https://worldhappiness.report/;  \n",
    "        https://github.com/lukes/ISO-3166-Countries-with-Regional-Codes/blob/master/all/all.csv"
   ]
  },
  {
   "cell_type": "markdown",
   "metadata": {
    "colab_type": "text",
    "id": "i9JHwz0dwsF0"
   },
   "source": [
    "## Import Data"
   ]
  },
  {
   "cell_type": "code",
   "execution_count": 1,
   "metadata": {
    "colab": {
     "base_uri": "https://localhost:8080/",
     "height": 206
    },
    "colab_type": "code",
    "id": "NHJoTvrht76G",
    "outputId": "578f5dc9-0c78-4dd4-e3aa-84b822661c51"
   },
   "outputs": [
    {
     "data": {
      "text/html": [
       "<div>\n",
       "<style scoped>\n",
       "    .dataframe tbody tr th:only-of-type {\n",
       "        vertical-align: middle;\n",
       "    }\n",
       "\n",
       "    .dataframe tbody tr th {\n",
       "        vertical-align: top;\n",
       "    }\n",
       "\n",
       "    .dataframe thead th {\n",
       "        text-align: right;\n",
       "    }\n",
       "</style>\n",
       "<table border=\"1\" class=\"dataframe\">\n",
       "  <thead>\n",
       "    <tr style=\"text-align: right;\">\n",
       "      <th></th>\n",
       "      <th>Happiness_level</th>\n",
       "      <th>Country or region</th>\n",
       "      <th>Region</th>\n",
       "      <th>GDP per capita</th>\n",
       "      <th>Social support</th>\n",
       "      <th>Healthy life expectancy</th>\n",
       "      <th>Freedom to make life choices</th>\n",
       "      <th>Generosity</th>\n",
       "      <th>Perceptions of corruption</th>\n",
       "    </tr>\n",
       "  </thead>\n",
       "  <tbody>\n",
       "    <tr>\n",
       "      <th>0</th>\n",
       "      <td>Very High</td>\n",
       "      <td>Australia</td>\n",
       "      <td>Oceania</td>\n",
       "      <td>1.372</td>\n",
       "      <td>1.548</td>\n",
       "      <td>1.036</td>\n",
       "      <td>0.557</td>\n",
       "      <td>0.332</td>\n",
       "      <td>0.290</td>\n",
       "    </tr>\n",
       "    <tr>\n",
       "      <th>1</th>\n",
       "      <td>Very High</td>\n",
       "      <td>Austria</td>\n",
       "      <td>Europe</td>\n",
       "      <td>1.376</td>\n",
       "      <td>1.475</td>\n",
       "      <td>1.016</td>\n",
       "      <td>0.532</td>\n",
       "      <td>0.244</td>\n",
       "      <td>0.226</td>\n",
       "    </tr>\n",
       "    <tr>\n",
       "      <th>2</th>\n",
       "      <td>Very High</td>\n",
       "      <td>Belgium</td>\n",
       "      <td>Europe</td>\n",
       "      <td>1.356</td>\n",
       "      <td>1.504</td>\n",
       "      <td>0.986</td>\n",
       "      <td>0.473</td>\n",
       "      <td>0.160</td>\n",
       "      <td>0.210</td>\n",
       "    </tr>\n",
       "    <tr>\n",
       "      <th>3</th>\n",
       "      <td>Very High</td>\n",
       "      <td>Canada</td>\n",
       "      <td>Americas</td>\n",
       "      <td>1.365</td>\n",
       "      <td>1.505</td>\n",
       "      <td>1.039</td>\n",
       "      <td>0.584</td>\n",
       "      <td>0.285</td>\n",
       "      <td>0.308</td>\n",
       "    </tr>\n",
       "    <tr>\n",
       "      <th>4</th>\n",
       "      <td>Very High</td>\n",
       "      <td>Chile</td>\n",
       "      <td>Americas</td>\n",
       "      <td>1.159</td>\n",
       "      <td>1.369</td>\n",
       "      <td>0.920</td>\n",
       "      <td>0.357</td>\n",
       "      <td>0.187</td>\n",
       "      <td>0.056</td>\n",
       "    </tr>\n",
       "  </tbody>\n",
       "</table>\n",
       "</div>"
      ],
      "text/plain": [
       "  Happiness_level Country or region  ... Generosity  Perceptions of corruption\n",
       "0       Very High         Australia  ...      0.332                      0.290\n",
       "1       Very High           Austria  ...      0.244                      0.226\n",
       "2       Very High           Belgium  ...      0.160                      0.210\n",
       "3       Very High            Canada  ...      0.285                      0.308\n",
       "4       Very High             Chile  ...      0.187                      0.056\n",
       "\n",
       "[5 rows x 9 columns]"
      ]
     },
     "execution_count": 1,
     "metadata": {
      "tags": []
     },
     "output_type": "execute_result"
    }
   ],
   "source": [
    "import matplotlib.pyplot as plt\n",
    "import numpy as np\n",
    "import pandas as pd\n",
    "\n",
    "data=pd.read_csv(\"worldhappiness2019_r.csv\")\n",
    "\n",
    "data.head()"
   ]
  },
  {
   "cell_type": "markdown",
   "metadata": {
    "colab_type": "text",
    "id": "2X_rMvb0xmhP"
   },
   "source": [
    "## Explore bivariate results by Visualization"
   ]
  },
  {
   "cell_type": "markdown",
   "metadata": {
    "colab_type": "text",
    "id": "SQ4HgUcUyY0h"
   },
   "source": [
    "### 1. The relationship between Happiness and GDP per capita\n",
    "\n",
    "---\n",
    "\n",
    "From the box plot below, people can see that from *Very High* level of happiness to *Very Low* level, countries tend to have less *GDP per capita*. \n",
    " \n",
    "**The higher the *GDP per capita*, the higher level the *Happiness* is**"
   ]
  },
  {
   "cell_type": "code",
   "execution_count": 0,
   "metadata": {
    "colab": {
     "base_uri": "https://localhost:8080/",
     "height": 387
    },
    "colab_type": "code",
    "id": "WQ2_bo3OxqqY",
    "outputId": "d13c4c72-6378-4584-d242-d98cfd3abb3a"
   },
   "outputs": [
    {
     "data": {
      "text/plain": [
       "<seaborn.axisgrid.FacetGrid at 0x7f1d2e2c9be0>"
      ]
     },
     "execution_count": 4,
     "metadata": {
      "tags": []
     },
     "output_type": "execute_result"
    },
    {
     "data": {
      "image/png": "[encoded data removed]",
      "text/plain": [
       "<Figure size 360x360 with 1 Axes>"
      ]
     },
     "metadata": {
      "tags": []
     },
     "output_type": "display_data"
    }
   ],
   "source": [
    "import seaborn as sns\n",
    "\n",
    "sns.catplot(x='Happiness_level', y=\"GDP per capita\", kind=\"box\", data=data)"
   ]
  },
  {
   "cell_type": "markdown",
   "metadata": {
    "colab_type": "text",
    "id": "1leLSNH0z8U6"
   },
   "source": [
    "### 2. The relationship between Happiness and Social support\n",
    "\n",
    "---\n",
    "\n",
    "From the box plot below, people can see that from *Very High* level of happiness to *Very Low* level, countries tend to have less *Social support*. \n",
    "   \n",
    "**The higher the *Social support*, the higher level the *Happiness* is**"
   ]
  },
  {
   "cell_type": "code",
   "execution_count": 0,
   "metadata": {
    "colab": {
     "base_uri": "https://localhost:8080/"
    },
    "colab_type": "code",
    "id": "IaljUQVt0Gjm",
    "outputId": "3b6727d2-784d-42b1-cb89-f2e1f9ef95b5"
   },
   "outputs": [
    {
     "data": {
      "text/plain": [
       "<seaborn.axisgrid.FacetGrid at 0x7f1d05380358>"
      ]
     },
     "execution_count": 5,
     "metadata": {
      "tags": []
     },
     "output_type": "execute_result"
    },
    {
     "data": {
      "image/png": "[encoded data removed]",
      "text/plain": [
       "<Figure size 360x360 with 1 Axes>"
      ]
     },
     "metadata": {
      "tags": []
     },
     "output_type": "display_data"
    }
   ],
   "source": [
    "sns.catplot(x='Happiness_level', y=\"Social support\", kind=\"box\", data=data)"
   ]
  },
  {
   "cell_type": "markdown",
   "metadata": {
    "colab_type": "text",
    "id": "CiGGzMoQQI-V"
   },
   "source": [
    "### 3. The relationship between Happiness and Healthy life expectancy\n",
    "\n",
    "---\n",
    "\n",
    "From the box plot below, people can see that from *Very High* level of happiness to *Very Low* level, countries tend to have less *Healthy life expectancy*. \n",
    "   \n",
    "**The higher the *Healthy life expectancy*, the higher level the *Happiness* is**"
   ]
  },
  {
   "cell_type": "code",
   "execution_count": 0,
   "metadata": {
    "colab": {
     "base_uri": "https://localhost:8080/"
    },
    "colab_type": "code",
    "id": "enymRMJKQVFp",
    "outputId": "ae865877-d889-44d5-e4bc-739065e6aebf"
   },
   "outputs": [
    {
     "data": {
      "text/plain": [
       "<seaborn.axisgrid.FacetGrid at 0x7f1d05282780>"
      ]
     },
     "execution_count": 6,
     "metadata": {
      "tags": []
     },
     "output_type": "execute_result"
    },
    {
     "data": {
      "image/png": "[encoded data removed]",
      "text/plain": [
       "<Figure size 360x360 with 1 Axes>"
      ]
     },
     "metadata": {
      "tags": []
     },
     "output_type": "display_data"
    }
   ],
   "source": [
    "sns.catplot(x='Happiness_level', y=\"Healthy life expectancy\", kind=\"box\", data=data)"
   ]
  },
  {
   "cell_type": "markdown",
   "metadata": {
    "colab_type": "text",
    "id": "DDk83ImTRCd0"
   },
   "source": [
    "### 4. The relationship between Happiness and Freedom to make life choices\n",
    "\n",
    "---\n",
    "\n",
    "From the box plot below, people can see that from *Very High* level of happiness to *Very Low* level, countries tend to have less *Freedom to make life choices*. \n",
    "   \n",
    "**The higher the *Freedom to make life choices*, the higher level the *Happiness* is**"
   ]
  },
  {
   "cell_type": "code",
   "execution_count": 0,
   "metadata": {
    "colab": {
     "base_uri": "https://localhost:8080/",
     "height": 387
    },
    "colab_type": "code",
    "id": "5UWvSRv6ROAN",
    "outputId": "92838716-55b0-44ff-829b-4597f0a87c56"
   },
   "outputs": [
    {
     "data": {
      "text/plain": [
       "<seaborn.axisgrid.FacetGrid at 0x7f1d0536e9e8>"
      ]
     },
     "execution_count": 7,
     "metadata": {
      "tags": []
     },
     "output_type": "execute_result"
    },
    {
     "data": {
      "image/png": "[encoded data removed]",
      "text/plain": [
       "<Figure size 360x360 with 1 Axes>"
      ]
     },
     "metadata": {
      "tags": []
     },
     "output_type": "display_data"
    }
   ],
   "source": [
    "sns.catplot(x='Happiness_level', y=\"Freedom to make life choices\", kind=\"box\", data=data)"
   ]
  },
  {
   "cell_type": "markdown",
   "metadata": {
    "colab_type": "text",
    "id": "dKzu3NnTRW2P"
   },
   "source": [
    "### 5. The relationship between Happiness and Generosity\n",
    "\n",
    "---\n",
    "\n",
    "From the box plot below, people can see that from *Very High* level of happiness to *Very Low* level, countries's *Generosity* point fall down at first but increase at last. \n",
    "   \n",
    "**There could be a quadratic relationship between *Happiness* and *Generosity***"
   ]
  },
  {
   "cell_type": "code",
   "execution_count": 0,
   "metadata": {
    "colab": {
     "base_uri": "https://localhost:8080/",
     "height": 387
    },
    "colab_type": "code",
    "id": "HeEvztCpReBF",
    "outputId": "0fe36d1c-a7cc-497f-baca-6a2d928f273d"
   },
   "outputs": [
    {
     "data": {
      "text/plain": [
       "<seaborn.axisgrid.FacetGrid at 0x7f1d0243d3c8>"
      ]
     },
     "execution_count": 8,
     "metadata": {
      "tags": []
     },
     "output_type": "execute_result"
    },
    {
     "data": {
      "image/png": "[encoded data removed]",
      "text/plain": [
       "<Figure size 360x360 with 1 Axes>"
      ]
     },
     "metadata": {
      "tags": []
     },
     "output_type": "display_data"
    }
   ],
   "source": [
    "sns.catplot(x='Happiness_level', y=\"Generosity\", kind=\"box\", data=data)"
   ]
  },
  {
   "cell_type": "markdown",
   "metadata": {
    "colab_type": "text",
    "id": "MOg37NncSQa2"
   },
   "source": [
    "### 6. The relationship between Happiness and Perceptions of corruption\n",
    "\n",
    "---\n",
    "\n",
    "From the box plot below, people can see that comparing the *Very High* Happiness level countries to others, they have much higher Perceptions of corruption.\n",
    "   \n",
    "**Those countries having Very High level of *Happiness* tend to have higher *Perceptions of corruption*, compared to other countries**"
   ]
  },
  {
   "cell_type": "code",
   "execution_count": 0,
   "metadata": {
    "colab": {
     "base_uri": "https://localhost:8080/",
     "height": 387
    },
    "colab_type": "code",
    "id": "V5rjk3pgSXnC",
    "outputId": "4649bc06-dc67-4b5f-82fe-e7eaeffa3cdb"
   },
   "outputs": [
    {
     "data": {
      "text/plain": [
       "<seaborn.axisgrid.FacetGrid at 0x7f1d02452cf8>"
      ]
     },
     "execution_count": 9,
     "metadata": {
      "tags": []
     },
     "output_type": "execute_result"
    },
    {
     "data": {
      "image/png": "[encoded data removed]",
      "text/plain": [
       "<Figure size 360x360 with 1 Axes>"
      ]
     },
     "metadata": {
      "tags": []
     },
     "output_type": "display_data"
    }
   ],
   "source": [
    "sns.catplot(x='Happiness_level', y=\"Perceptions of corruption\", kind=\"box\", data=data)"
   ]
  },
  {
   "cell_type": "markdown",
   "metadata": {
    "colab_type": "text",
    "id": "oGW8rESiUNyp"
   },
   "source": [
    "### 7. The relationship between Happiness and Region\n",
    "\n",
    "---\n",
    "\n",
    "From the plot below, people can see that for Very High Happiness countries, most of them are in Europe. There is no country in Africa which has a Very High level of Happiness, indeed, most African countires are in Low or Very Low level. Also, American countries are like those in Europe, that most of them are in High level; while most Asian countries stay at the Average level of Happiness."
   ]
  },
  {
   "cell_type": "code",
   "execution_count": 0,
   "metadata": {
    "colab": {
     "base_uri": "https://localhost:8080/",
     "height": 298
    },
    "colab_type": "code",
    "id": "MBMSlD-WUTU6",
    "outputId": "fb9138d8-c5c1-4c7c-fa7b-7aae4255ecb2"
   },
   "outputs": [
    {
     "data": {
      "text/plain": [
       "<matplotlib.axes._subplots.AxesSubplot at 0x7f1d021fa6a0>"
      ]
     },
     "execution_count": 10,
     "metadata": {
      "tags": []
     },
     "output_type": "execute_result"
    },
    {
     "data": {
      "image/png": "[encoded data removed]",
      "text/plain": [
       "<Figure size 432x288 with 1 Axes>"
      ]
     },
     "metadata": {
      "tags": []
     },
     "output_type": "display_data"
    }
   ],
   "source": [
    "sns.countplot(x=\"Happiness_level\", hue=\"Region\", data=data)"
   ]
  },
  {
   "cell_type": "markdown",
   "metadata": {
    "colab_type": "text",
    "id": "z5m8nuKBxMMe"
   },
   "source": [
    "## Build a model to predict happiness rankings"
   ]
  },
  {
   "cell_type": "code",
   "execution_count": 48,
   "metadata": {
    "colab": {
     "base_uri": "https://localhost:8080/",
     "height": 72
    },
    "colab_type": "code",
    "id": "gcVWJ55HxN9V",
    "outputId": "323d5ce8-3030-43a9-ea73-edd2b9f330df"
   },
   "outputs": [
    {
     "name": "stdout",
     "output_type": "stream",
     "text": [
      "(117, 7)\n",
      "(117,)\n",
      "['Region', 'GDP per capita', 'Social support', 'Healthy life expectancy', 'Freedom to make life choices', 'Generosity', 'Perceptions of corruption']\n"
     ]
    }
   ],
   "source": [
    "# Set up training and test data\n",
    "from sklearn.model_selection import train_test_split\n",
    "\n",
    "y=data['Happiness_level']\n",
    "X=data.drop(['Happiness_level', 'Country or region'],axis=1)\n",
    "X_train, X_test, y_train, y_test = train_test_split(X, y, random_state=42)\n",
    "\n",
    "print(X_train.shape)\n",
    "print(y_train.shape)\n",
    "print(X_train.columns.tolist())"
   ]
  },
  {
   "cell_type": "markdown",
   "metadata": {
    "colab_type": "text",
    "id": "n03mzIZQMEgb"
   },
   "source": [
    "## Examine feature importance"
   ]
  },
  {
   "cell_type": "code",
   "execution_count": 0,
   "metadata": {
    "colab": {
     "base_uri": "https://localhost:8080/",
     "height": 302
    },
    "colab_type": "code",
    "id": "IUpyJqDSR0yv",
    "outputId": "edc2eaa8-0532-4b5f-fb8b-319e236b692b"
   },
   "outputs": [
    {
     "data": {
      "image/png": "[encoded data removed]",
      "text/plain": [
       "<Figure size 432x288 with 1 Axes>"
      ]
     },
     "metadata": {
      "tags": []
     },
     "output_type": "display_data"
    },
    {
     "data": {
      "text/plain": [
       "array([0.18709492, 0.16972113, 0.18577133, 0.13519443, 0.10162471,\n",
       "       0.1325214 , 0.08807209])"
      ]
     },
     "execution_count": 25,
     "metadata": {
      "tags": []
     },
     "output_type": "execute_result"
    }
   ],
   "source": [
    "from sklearn.preprocessing import LabelEncoder\n",
    "\n",
    "#Lable the Column 'Region'\n",
    "lb_make = LabelEncoder()\n",
    "X[\"Region_code\"] = lb_make.fit_transform(X[\"Region\"])\n",
    "\n",
    "#Examine Feature Importance by ExtraTreesClassifier\n",
    "from sklearn.ensemble import ExtraTreesClassifier\n",
    "import matplotlib.pyplot as plt\n",
    "\n",
    "X_num = X.drop(['Region'], axis=1)\n",
    "\n",
    "model = ExtraTreesClassifier()\n",
    "model.fit(X_num,pd.get_dummies(y))\n",
    "\n",
    "feat_importances = pd.Series(model.feature_importances_, index=X_num.columns)\n",
    "feat_importances.nlargest(7).plot(kind='barh')\n",
    "plt.show()\n",
    "model.feature_importances_\n",
    "\n"
   ]
  },
  {
   "cell_type": "markdown",
   "metadata": {
    "colab_type": "text",
    "id": "EqjWLKl5Zerr"
   },
   "source": [
    "The graph above shows the importance of each feature.  \n",
    "\n",
    "\n",
    "> People can see that **GDP per capita**, **Healthy life expectancy** and **Social support** are the most important features to predict **Happiness**.\n",
    "\n",
    ">At the same time, **Region** and **Generosity** are less important than others."
   ]
  },
  {
   "cell_type": "markdown",
   "metadata": {
    "colab_type": "text",
    "id": "YFzAqN-3xd2X"
   },
   "source": [
    "## Preprocess data using Column Transformer and save fit preprocessor to \".pkl\" file"
   ]
  },
  {
   "cell_type": "code",
   "execution_count": 0,
   "metadata": {
    "colab": {},
    "colab_type": "code",
    "id": "SsWGS--rxeoQ"
   },
   "outputs": [],
   "source": [
    "from sklearn.preprocessing import StandardScaler, OneHotEncoder\n",
    "from sklearn.compose import ColumnTransformer, make_column_transformer\n",
    "from sklearn.pipeline import Pipeline\n",
    "from sklearn.impute import SimpleImputer\n",
    "\n",
    "#Preprocessing Pipeline for Numeric features\n",
    "numeric_features=X.columns.tolist()\n",
    "numeric_features.remove('Region')\n",
    "\n",
    "numeric_transformer = Pipeline(steps=[\n",
    "    ('imputer', SimpleImputer(strategy='median')),\n",
    "    ('scaler', StandardScaler())])\n",
    "\n",
    "#Preprocessing Pipeline for Categorical feature\n",
    "categorical_features = ['Region']\n",
    "\n",
    "categorical_transformer = Pipeline(steps=[\n",
    "    ('imputer', SimpleImputer(strategy='most_frequent')),\n",
    "    ('onehot', OneHotEncoder(handle_unknown='ignore'))])\n",
    "\n",
    "#Final Preprocessor Object\n",
    "preprocessor = ColumnTransformer(\n",
    "    transformers=[('num', numeric_transformer, numeric_features),\n",
    "                  ('cat', categorical_transformer, categorical_features)])\n",
    "\n",
    "#Fit the Preprocessor Object\n",
    "prediction_input_preprocessor=preprocessor.fit(X_train)\n",
    "\n",
    "#Saving Preprocessor Object with pickle\n",
    "import pickle\n",
    "pickle.dump(prediction_input_preprocessor, open(\"preprocessor.pkl\", \"wb\" ))"
   ]
  },
  {
   "cell_type": "code",
   "execution_count": 0,
   "metadata": {
    "colab": {
     "base_uri": "https://localhost:8080/",
     "height": 35
    },
    "colab_type": "code",
    "id": "3L82a0GuWrV5",
    "outputId": "eefdeb0f-4fd6-4e36-d4a3-e14e8923277d"
   },
   "outputs": [
    {
     "data": {
      "text/plain": [
       "(117, 11)"
      ]
     },
     "execution_count": 4,
     "metadata": {
      "tags": []
     },
     "output_type": "execute_result"
    }
   ],
   "source": [
    "#Check the shape of X_train\n",
    "prediction_input_preprocessor.transform(X_train).shape"
   ]
  },
  {
   "cell_type": "code",
   "execution_count": 49,
   "metadata": {
    "colab": {
     "base_uri": "https://localhost:8080/",
     "height": 35
    },
    "colab_type": "code",
    "id": "zyDWduolWtBx",
    "outputId": "b2e0eeb7-f83a-4348-9e2a-d3057884875a"
   },
   "outputs": [
    {
     "data": {
      "text/plain": [
       "(117,)"
      ]
     },
     "execution_count": 49,
     "metadata": {
      "tags": []
     },
     "output_type": "execute_result"
    }
   ],
   "source": [
    "#Check the shape of y_train\n",
    "y_train.shape"
   ]
  },
  {
   "cell_type": "markdown",
   "metadata": {
    "colab_type": "text",
    "id": "ImTSPZwia0L6"
   },
   "source": [
    "## Prediction Model #1 - A Neural Network with Keras"
   ]
  },
  {
   "cell_type": "markdown",
   "metadata": {
    "colab_type": "text",
    "id": "Vmv8EZzacRkc"
   },
   "source": [
    "### 1.1 Build the model"
   ]
  },
  {
   "cell_type": "code",
   "execution_count": 60,
   "metadata": {
    "colab": {
     "base_uri": "https://localhost:8080/",
     "height": 201
    },
    "colab_type": "code",
    "id": "kR3xOSqqhAEU",
    "outputId": "4a19c98d-46e2-4f54-bf8a-8604985ebfb8"
   },
   "outputs": [
    {
     "name": "stdout",
     "output_type": "stream",
     "text": [
      "Best: 0.504274 using {'batch_size': 60, 'epochs': 500}\n",
      "0.504274 (0.024175) with: {'batch_size': 60, 'epochs': 500}\n",
      "0.444444 (0.048349) with: {'batch_size': 60, 'epochs': 700}\n",
      "0.487179 (0.041872) with: {'batch_size': 60, 'epochs': 1300}\n",
      "0.452991 (0.063960) with: {'batch_size': 80, 'epochs': 500}\n",
      "0.470085 (0.043581) with: {'batch_size': 80, 'epochs': 700}\n",
      "0.452991 (0.067299) with: {'batch_size': 80, 'epochs': 1300}\n",
      "0.435897 (0.055391) with: {'batch_size': 100, 'epochs': 500}\n",
      "0.478632 (0.048349) with: {'batch_size': 100, 'epochs': 700}\n",
      "0.427350 (0.031980) with: {'batch_size': 100, 'epochs': 1300}\n"
     ]
    }
   ],
   "source": [
    "#Using Grid Search to Find Better Parameters\n",
    "from sklearn.model_selection import GridSearchCV\n",
    "from keras.models import Sequential\n",
    "from keras.layers import Dense\n",
    "from keras.wrappers.scikit_learn import KerasClassifier\n",
    "from keras.optimizers import Adadelta\n",
    "\n",
    "def create_model(optimizer=\"Adadelta\"):\n",
    "\t# create model\n",
    "  model = Sequential()\n",
    "  model.add(Dense(150, input_dim=11, activation='relu'))\n",
    "  model.add(Dense(100, activation='relu'))\n",
    "\n",
    "  model.add(Dense(5, activation='softmax'))\n",
    "  \n",
    "  ada = Adadelta(lr=0.1, rho=0.95)\n",
    "  \n",
    "  # Compile model\n",
    "  model.compile(loss='categorical_crossentropy', optimizer=ada, metrics=['accuracy'])\n",
    "  return model\n",
    "\n",
    "seed = 15\n",
    "np.random.seed(seed)\n",
    "\n",
    "model = KerasClassifier(build_fn=create_model, verbose=0)\n",
    "# define the grid search parameters\n",
    "batch_size = [60, 80, 100]\n",
    "epochs = [500, 700, 1300]\n",
    "param_grid = dict(batch_size=batch_size, epochs=epochs)\n",
    "grid = GridSearchCV(estimator=model, param_grid=param_grid, cv=3)\n",
    "grid_result = grid.fit(prediction_input_preprocessor.transform(X_train), y_train)\n",
    "# summarize results\n",
    "print(\"Best: %f using %s\" % (grid_result.best_score_, grid_result.best_params_))\n",
    "means = grid_result.cv_results_['mean_test_score']\n",
    "stds = grid_result.cv_results_['std_test_score']\n",
    "params = grid_result.cv_results_['params']\n",
    "for mean, stdev, param in zip(means, stds, params):\n",
    "    print(\"%f (%f) with: %r\" % (mean, stdev, param))"
   ]
  },
  {
   "cell_type": "code",
   "execution_count": 61,
   "metadata": {
    "colab": {
     "base_uri": "https://localhost:8080/",
     "height": 35
    },
    "colab_type": "code",
    "id": "g8yrQ93I_i_a",
    "outputId": "116869e1-a45c-4331-ae4c-95cd3748c990"
   },
   "outputs": [
    {
     "data": {
      "text/plain": [
       "<keras.callbacks.History at 0x7f4f201eb940>"
      ]
     },
     "execution_count": 61,
     "metadata": {
      "tags": []
     },
     "output_type": "execute_result"
    }
   ],
   "source": [
    "from keras.models import Sequential\n",
    "from keras.layers import Dense\n",
    "from keras.wrappers.scikit_learn import KerasClassifier\n",
    "from keras.optimizers import Adadelta\n",
    "\n",
    "def create_model():\n",
    "\t# create model\n",
    "  model = Sequential()\n",
    "  model.add(Dense(150, input_dim=11, activation='relu'))\n",
    "  model.add(Dense(100, activation='relu'))\n",
    "\n",
    "  model.add(Dense(5, activation='softmax'))\n",
    "  \n",
    "  ada = Adadelta(lr=0.1, rho=0.95)\n",
    "\n",
    "  # Compile model\n",
    "  model.compile(loss='categorical_crossentropy', optimizer=ada, metrics=['accuracy'])\n",
    "  return model\n",
    "\n",
    "seed = 15\n",
    "np.random.seed(seed)\n",
    "\n",
    "model1 = KerasClassifier(build_fn=create_model, batch_size=60, epochs=500, validation_split=0, verbose=0 )\n",
    "model1.fit(prediction_input_preprocessor.transform(X_train), y_train)"
   ]
  },
  {
   "cell_type": "markdown",
   "metadata": {
    "colab_type": "text",
    "id": "DdkG1lZgcV6e"
   },
   "source": [
    "### 1.2 Evaluate the model"
   ]
  },
  {
   "cell_type": "code",
   "execution_count": 0,
   "metadata": {
    "colab": {},
    "colab_type": "code",
    "id": "taAhaqwvcCwE"
   },
   "outputs": [],
   "source": [
    "import numpy as np\n",
    "from sklearn.metrics import accuracy_score\n",
    "from sklearn.metrics import f1_score\n",
    "from sklearn.metrics import precision_score\n",
    "from sklearn.metrics import recall_score\n",
    "from sklearn.metrics import roc_auc_score\n",
    "from sklearn.metrics import mean_squared_error\n",
    "from sklearn.metrics import r2_score\n",
    "from sklearn.metrics import mean_absolute_error\n",
    "import pandas as pd\n",
    "from math import sqrt\n",
    "\n",
    "def model_eval_metrics(y_true, y_pred,classification=\"TRUE\"):\n",
    "     if classification==\"TRUE\":\n",
    "        accuracy_eval = accuracy_score(y_true, y_pred)\n",
    "        f1_score_eval = f1_score(y_true, y_pred,average=\"macro\",zero_division=0)\n",
    "        precision_eval = precision_score(y_true, y_pred,average=\"macro\",zero_division=0)\n",
    "        recall_eval = recall_score(y_true, y_pred,average=\"macro\",zero_division=0)\n",
    "        mse_eval = 0\n",
    "        rmse_eval = 0\n",
    "        mae_eval = 0\n",
    "        r2_eval = 0\n",
    "        metricdata = {'accuracy': [accuracy_eval], 'f1_score': [f1_score_eval], 'precision': [precision_eval], 'recall': [recall_eval], 'mse': [mse_eval], 'rmse': [rmse_eval], 'mae': [mae_eval], 'r2': [r2_eval]}\n",
    "        finalmetricdata = pd.DataFrame.from_dict(metricdata)\n",
    "     else:\n",
    "        accuracy_eval = 0\n",
    "        f1_score_eval = 0\n",
    "        precision_eval = 0\n",
    "        recall_eval = 0\n",
    "        mse_eval = mean_squared_error(y_true, y_pred)\n",
    "        rmse_eval = sqrt(mean_squared_error(y_true, y_pred))\n",
    "        mae_eval = mean_absolute_error(y_true, y_pred)\n",
    "        r2_eval = r2_score(y_true, y_pred)\n",
    "        metricdata = {'accuracy': [accuracy_eval], 'f1_score': [f1_score_eval], 'precision': [precision_eval], 'recall': [recall_eval], 'mse': [mse_eval], 'rmse': [rmse_eval], 'mae': [mae_eval], 'r2': [r2_eval]}\n",
    "        finalmetricdata = pd.DataFrame.from_dict(metricdata)\n",
    "     return finalmetricdata"
   ]
  },
  {
   "cell_type": "code",
   "execution_count": 62,
   "metadata": {
    "colab": {
     "base_uri": "https://localhost:8080/",
     "height": 81
    },
    "colab_type": "code",
    "id": "Rvft42JJgShT",
    "outputId": "80574bdb-0e2d-4b95-d7bc-a4f8f08b6e98"
   },
   "outputs": [
    {
     "data": {
      "text/html": [
       "<div>\n",
       "<style scoped>\n",
       "    .dataframe tbody tr th:only-of-type {\n",
       "        vertical-align: middle;\n",
       "    }\n",
       "\n",
       "    .dataframe tbody tr th {\n",
       "        vertical-align: top;\n",
       "    }\n",
       "\n",
       "    .dataframe thead th {\n",
       "        text-align: right;\n",
       "    }\n",
       "</style>\n",
       "<table border=\"1\" class=\"dataframe\">\n",
       "  <thead>\n",
       "    <tr style=\"text-align: right;\">\n",
       "      <th></th>\n",
       "      <th>accuracy</th>\n",
       "      <th>f1_score</th>\n",
       "      <th>precision</th>\n",
       "      <th>recall</th>\n",
       "      <th>mse</th>\n",
       "      <th>rmse</th>\n",
       "      <th>mae</th>\n",
       "      <th>r2</th>\n",
       "    </tr>\n",
       "  </thead>\n",
       "  <tbody>\n",
       "    <tr>\n",
       "      <th>0</th>\n",
       "      <td>0.717949</td>\n",
       "      <td>0.717857</td>\n",
       "      <td>0.717857</td>\n",
       "      <td>0.727778</td>\n",
       "      <td>0</td>\n",
       "      <td>0</td>\n",
       "      <td>0</td>\n",
       "      <td>0</td>\n",
       "    </tr>\n",
       "  </tbody>\n",
       "</table>\n",
       "</div>"
      ],
      "text/plain": [
       "   accuracy  f1_score  precision    recall  mse  rmse  mae  r2\n",
       "0  0.717949  0.717857   0.717857  0.727778    0     0    0   0"
      ]
     },
     "execution_count": 62,
     "metadata": {
      "tags": []
     },
     "output_type": "execute_result"
    }
   ],
   "source": [
    "y_pred=model1.predict(prediction_input_preprocessor.transform(X_test))\n",
    "\n",
    "modelevalobject=model_eval_metrics(y_test,y_pred,classification=\"TRUE\")\n",
    "modelevalobject"
   ]
  },
  {
   "cell_type": "markdown",
   "metadata": {
    "colab_type": "text",
    "id": "1b1vRU5dgjs4"
   },
   "source": [
    "### 1.3 Discussion for hyper-parameter values\n",
    "\n",
    "---\n",
    "\n",
    "In this Keras Deep Learning Model, there are multiple parameters:\n",
    "\n",
    "1.  Optimizer  \n",
    "    I instantiated an optimizer before passing it to the `model.compile()`, and I choose `Adadelta()` as the optimizer. From the `Keras` Document, \"Adadelta is a more robust extension of `Adagrad` that adapts learning rates based on a moving window of gradient updates, instead of accumulating all past gradients. This way, Adadelta continues learning even when many updates have been done.\"  \n",
    "    People can find the document about optimizer in `Keras` from [this website](https://keras.io/optimizers/).  \n",
    "    Choosing Adadelta() gave me the best test scores compared to other optimizer like `SGD`, `Adam`, `Adamax`, etc. \n",
    "\n",
    "2.  Learning Rate `lr`   \n",
    "    The learning rate is a tuning parameter in an optimization algorithm that determines the step size at each iteration while moving toward a minimum of a loss function. When I instantiated the optimizer, I set up the learning rate in this model. The learning rate, which is `lr` in the code, is **0.1** this time. After setting that, I got a better result. \n",
    "\n",
    "3.  `batch_size`, `epochs` and `validation_split`  \n",
    "    >The `batch_size` defines the number of samples that will be propagated through the network.   \n",
    "\n",
    "    >The `epochs` means the number of epochs to train the model. An epoch is an iteration over the entire x and y data provided.  \n",
    "\n",
    "    >The `validation_split` is the fraction of the training data to be used as validation data. The model will set apart this fraction of the training data, will not train on it, and will evaluate the loss and any model metrics on this data at the end of each epoch.   \n",
    "\n",
    "    I tried to run a `GridSearchCV` to find better `batch_size` and `epochs` for this model. For `validation_split`, I tried different values between **0 to 0.2**. Since the training data set is relatively small in this case, I decided to set it to **0**, and it gave me a better result.\n",
    "\n"
   ]
  },
  {
   "cell_type": "markdown",
   "metadata": {
    "colab_type": "text",
    "id": "DOYFt-UQgcc7"
   },
   "source": [
    "### 1.4 Upload the model"
   ]
  },
  {
   "cell_type": "code",
   "execution_count": 0,
   "metadata": {
    "colab": {},
    "colab_type": "code",
    "id": "F6yVBpwwehsu"
   },
   "outputs": [],
   "source": [
    "! pip3 install keras2onnx\n",
    "! pip3 install onnxruntime"
   ]
  },
  {
   "cell_type": "code",
   "execution_count": 0,
   "metadata": {
    "colab": {},
    "colab_type": "code",
    "id": "UUZJbdVeOcqt"
   },
   "outputs": [],
   "source": [
    "#Convert keras model object to onnx and then save it to .onnx file\n",
    "import pickle\n",
    "pickle.dump(model1, open( \"3sc_keras_model_r.pkl\", \"wb\" ) )"
   ]
  },
  {
   "cell_type": "code",
   "execution_count": 0,
   "metadata": {
    "colab": {},
    "colab_type": "code",
    "id": "GRlU_qorPBZq"
   },
   "outputs": [],
   "source": [
    "import pickle\n",
    "\n",
    "# Loading AWS keys necessary to submit model.  Loading to object, so we don't print them out in our notebook\n",
    "\n",
    "aws_key_password_region = pickle.load(open(\"worldhappiness_modelsubmission_keys.pkl\", \"rb\" )) "
   ]
  },
  {
   "cell_type": "code",
   "execution_count": 0,
   "metadata": {
    "colab": {},
    "colab_type": "code",
    "id": "p4NFLf9lPaEI"
   },
   "outputs": [],
   "source": [
    "apiurl=\"https://btuvanmi55.execute-api.us-east-1.amazonaws.com/prod/m\"\n",
    "username = \"3scman\"\n",
    "password = \"Man7mancheng\"\n",
    "\n",
    "region='us-east-1'\n",
    "model_filepath=\"3sc_keras_model_r.pkl\"   \n",
    "preprocessor_filepath=\"preprocessor.pkl\"\n",
    "preprocessor=\"TRUE\"\n",
    "\n",
    "trainingdata=X_train\n",
    "\n",
    "# Set aws keys for this project (these keys give you access to collaborate on a single project)\n",
    "\n",
    "#Importing from object that stores keys so we do not print out keys for others to see.\n",
    "\n",
    "aws_key_password_region = pickle.load(open( \"worldhappiness_modelsubmission_keys.pkl\", \"rb\" ) )\n",
    "\n",
    "aws_key=aws_key_password_region[0]\n",
    "aws_password=aws_key_password_region[1]\n",
    "region=aws_key_password_region[2]"
   ]
  },
  {
   "cell_type": "code",
   "execution_count": 0,
   "metadata": {
    "colab": {},
    "colab_type": "code",
    "id": "0Ny7nZE6vvVN"
   },
   "outputs": [],
   "source": [
    "! pip3 install https://github.com/mikedparrott/aimodelshare/blob/master/aimodelshare-0.0.2.tar.gz?raw=true"
   ]
  },
  {
   "cell_type": "code",
   "execution_count": 0,
   "metadata": {
    "colab": {},
    "colab_type": "code",
    "id": "Aq_BEtYgPo2m"
   },
   "outputs": [],
   "source": [
    "# Submit your model using submit_model() function\n",
    "# Works with models and preprocessors. \n",
    "import aimodelshare as ai\n",
    "\n",
    "ai.submit_model(model_filepath=model_filepath, model_eval_metrics=modelevalobject,apiurl=apiurl, username=username, password=password, aws_key=aws_key,aws_password=aws_password, region=region, trainingdata=trainingdata,preprocessor_filepath=preprocessor_filepath,preprocessor=preprocessor)"
   ]
  },
  {
   "cell_type": "code",
   "execution_count": 0,
   "metadata": {
    "colab": {},
    "colab_type": "code",
    "id": "d6VXVPZxPzvn"
   },
   "outputs": [],
   "source": [
    "# arguments required to get leaderboard below\n",
    "apiurl=\"https://btuvanmi55.execute-api.us-east-1.amazonaws.com/prod/m\"\n",
    "username = \"3scman\"\n",
    "password = \"Man7mancheng\""
   ]
  },
  {
   "cell_type": "code",
   "execution_count": 72,
   "metadata": {
    "colab": {
     "base_uri": "https://localhost:8080/",
     "height": 442
    },
    "colab_type": "code",
    "id": "4IF_buaoP0wl",
    "outputId": "dabebd84-5b7d-45ea-f8b2-0532b62b46ee"
   },
   "outputs": [
    {
     "name": "stdout",
     "output_type": "stream",
     "text": [
      "LEADERBOARD RANKINGS:\n"
     ]
    },
    {
     "data": {
      "text/html": [
       "<div>\n",
       "<style scoped>\n",
       "    .dataframe tbody tr th:only-of-type {\n",
       "        vertical-align: middle;\n",
       "    }\n",
       "\n",
       "    .dataframe tbody tr th {\n",
       "        vertical-align: top;\n",
       "    }\n",
       "\n",
       "    .dataframe thead th {\n",
       "        text-align: right;\n",
       "    }\n",
       "</style>\n",
       "<table border=\"1\" class=\"dataframe\">\n",
       "  <thead>\n",
       "    <tr style=\"text-align: right;\">\n",
       "      <th></th>\n",
       "      <th>accuracy</th>\n",
       "      <th>f1_score</th>\n",
       "      <th>precision</th>\n",
       "      <th>recall</th>\n",
       "      <th>mse</th>\n",
       "      <th>rmse</th>\n",
       "      <th>mae</th>\n",
       "      <th>r2</th>\n",
       "      <th>username</th>\n",
       "      <th>model_version</th>\n",
       "      <th>avg_ranking_classification</th>\n",
       "      <th>avg_ranking_regression</th>\n",
       "    </tr>\n",
       "  </thead>\n",
       "  <tbody>\n",
       "    <tr>\n",
       "      <th>61</th>\n",
       "      <td>0.717949</td>\n",
       "      <td>0.717857</td>\n",
       "      <td>0.717857</td>\n",
       "      <td>0.727778</td>\n",
       "      <td>0</td>\n",
       "      <td>0</td>\n",
       "      <td>0</td>\n",
       "      <td>0</td>\n",
       "      <td>3scman</td>\n",
       "      <td>85</td>\n",
       "      <td>2.333333</td>\n",
       "      <td>1.0</td>\n",
       "    </tr>\n",
       "    <tr>\n",
       "      <th>14</th>\n",
       "      <td>0.717949</td>\n",
       "      <td>0.713796</td>\n",
       "      <td>0.719444</td>\n",
       "      <td>0.725000</td>\n",
       "      <td>0</td>\n",
       "      <td>0</td>\n",
       "      <td>0</td>\n",
       "      <td>0</td>\n",
       "      <td>3scman</td>\n",
       "      <td>70</td>\n",
       "      <td>2.333333</td>\n",
       "      <td>1.0</td>\n",
       "    </tr>\n",
       "    <tr>\n",
       "      <th>49</th>\n",
       "      <td>0.666667</td>\n",
       "      <td>0.675975</td>\n",
       "      <td>0.754286</td>\n",
       "      <td>0.700952</td>\n",
       "      <td>0</td>\n",
       "      <td>0</td>\n",
       "      <td>0</td>\n",
       "      <td>0</td>\n",
       "      <td>dhoward97</td>\n",
       "      <td>69</td>\n",
       "      <td>2.666667</td>\n",
       "      <td>1.0</td>\n",
       "    </tr>\n",
       "    <tr>\n",
       "      <th>80</th>\n",
       "      <td>0.692308</td>\n",
       "      <td>0.693333</td>\n",
       "      <td>0.700397</td>\n",
       "      <td>0.702778</td>\n",
       "      <td>0</td>\n",
       "      <td>0</td>\n",
       "      <td>0</td>\n",
       "      <td>0</td>\n",
       "      <td>3scman</td>\n",
       "      <td>62</td>\n",
       "      <td>4.000000</td>\n",
       "      <td>1.0</td>\n",
       "    </tr>\n",
       "    <tr>\n",
       "      <th>0</th>\n",
       "      <td>0.641026</td>\n",
       "      <td>0.642381</td>\n",
       "      <td>0.743590</td>\n",
       "      <td>0.682273</td>\n",
       "      <td>0</td>\n",
       "      <td>0</td>\n",
       "      <td>0</td>\n",
       "      <td>0</td>\n",
       "      <td>SUN-Wenjun</td>\n",
       "      <td>83</td>\n",
       "      <td>4.000000</td>\n",
       "      <td>1.0</td>\n",
       "    </tr>\n",
       "    <tr>\n",
       "      <th>...</th>\n",
       "      <td>...</td>\n",
       "      <td>...</td>\n",
       "      <td>...</td>\n",
       "      <td>...</td>\n",
       "      <td>...</td>\n",
       "      <td>...</td>\n",
       "      <td>...</td>\n",
       "      <td>...</td>\n",
       "      <td>...</td>\n",
       "      <td>...</td>\n",
       "      <td>...</td>\n",
       "      <td>...</td>\n",
       "    </tr>\n",
       "    <tr>\n",
       "      <th>73</th>\n",
       "      <td>0.384615</td>\n",
       "      <td>0.343861</td>\n",
       "      <td>0.348889</td>\n",
       "      <td>0.422222</td>\n",
       "      <td>0</td>\n",
       "      <td>0</td>\n",
       "      <td>0</td>\n",
       "      <td>0</td>\n",
       "      <td>zivzach</td>\n",
       "      <td>50</td>\n",
       "      <td>29.333333</td>\n",
       "      <td>1.0</td>\n",
       "    </tr>\n",
       "    <tr>\n",
       "      <th>22</th>\n",
       "      <td>0.384615</td>\n",
       "      <td>0.303896</td>\n",
       "      <td>0.340260</td>\n",
       "      <td>0.425000</td>\n",
       "      <td>0</td>\n",
       "      <td>0</td>\n",
       "      <td>0</td>\n",
       "      <td>0</td>\n",
       "      <td>abhay_07</td>\n",
       "      <td>18</td>\n",
       "      <td>30.333333</td>\n",
       "      <td>1.0</td>\n",
       "    </tr>\n",
       "    <tr>\n",
       "      <th>5</th>\n",
       "      <td>0.333333</td>\n",
       "      <td>0.337698</td>\n",
       "      <td>0.385556</td>\n",
       "      <td>0.322222</td>\n",
       "      <td>0</td>\n",
       "      <td>0</td>\n",
       "      <td>0</td>\n",
       "      <td>0</td>\n",
       "      <td>username2</td>\n",
       "      <td>6</td>\n",
       "      <td>29.666667</td>\n",
       "      <td>1.0</td>\n",
       "    </tr>\n",
       "    <tr>\n",
       "      <th>38</th>\n",
       "      <td>0.333333</td>\n",
       "      <td>0.337698</td>\n",
       "      <td>0.385556</td>\n",
       "      <td>0.322222</td>\n",
       "      <td>0</td>\n",
       "      <td>0</td>\n",
       "      <td>0</td>\n",
       "      <td>0</td>\n",
       "      <td>username2</td>\n",
       "      <td>3</td>\n",
       "      <td>29.666667</td>\n",
       "      <td>1.0</td>\n",
       "    </tr>\n",
       "    <tr>\n",
       "      <th>84</th>\n",
       "      <td>0.333333</td>\n",
       "      <td>0.337698</td>\n",
       "      <td>0.385556</td>\n",
       "      <td>0.322222</td>\n",
       "      <td>0</td>\n",
       "      <td>0</td>\n",
       "      <td>0</td>\n",
       "      <td>0</td>\n",
       "      <td>username2</td>\n",
       "      <td>2</td>\n",
       "      <td>29.666667</td>\n",
       "      <td>1.0</td>\n",
       "    </tr>\n",
       "  </tbody>\n",
       "</table>\n",
       "<p>85 rows × 12 columns</p>\n",
       "</div>"
      ],
      "text/plain": [
       "    accuracy  f1_score  ...  avg_ranking_classification  avg_ranking_regression\n",
       "61  0.717949  0.717857  ...                    2.333333                     1.0\n",
       "14  0.717949  0.713796  ...                    2.333333                     1.0\n",
       "49  0.666667  0.675975  ...                    2.666667                     1.0\n",
       "80  0.692308  0.693333  ...                    4.000000                     1.0\n",
       "0   0.641026  0.642381  ...                    4.000000                     1.0\n",
       "..       ...       ...  ...                         ...                     ...\n",
       "73  0.384615  0.343861  ...                   29.333333                     1.0\n",
       "22  0.384615  0.303896  ...                   30.333333                     1.0\n",
       "5   0.333333  0.337698  ...                   29.666667                     1.0\n",
       "38  0.333333  0.337698  ...                   29.666667                     1.0\n",
       "84  0.333333  0.337698  ...                   29.666667                     1.0\n",
       "\n",
       "[85 rows x 12 columns]"
      ]
     },
     "metadata": {
      "tags": []
     },
     "output_type": "display_data"
    }
   ],
   "source": [
    "import aimodelshare as ai\n",
    "import pickle\n",
    "\n",
    "# Loading AWS keys necessary to submit model.  Loading to object, so we don't print them out in our notebook\n",
    "\n",
    "aws_key_password_region = pickle.load(open(\"worldhappiness_modelsubmission_keys.pkl\", \"rb\" )) \n",
    "aws_key_password_region = pickle.load( open( \"worldhappiness_modelsubmission_keys.pkl\", \"rb\" ) )\n",
    "\n",
    "aws_key=aws_key_password_region[0]\n",
    "aws_password=aws_key_password_region[1]\n",
    "region=aws_key_password_region[2]\n",
    "leaderboard = ai.get_leaderboard(apiurl, username, password, aws_key, aws_password, region)"
   ]
  },
  {
   "cell_type": "markdown",
   "metadata": {
    "colab_type": "text",
    "id": "mQhNQz8dgd2s"
   },
   "source": [
    "## Prediction Model #2 - KNN"
   ]
  },
  {
   "cell_type": "markdown",
   "metadata": {
    "colab_type": "text",
    "id": "jMQiNIX44ts6"
   },
   "source": [
    "### 2.1 Build the model"
   ]
  },
  {
   "cell_type": "code",
   "execution_count": 73,
   "metadata": {
    "colab": {
     "base_uri": "https://localhost:8080/",
     "height": 72
    },
    "colab_type": "code",
    "id": "hkeXMPl9gPpF",
    "outputId": "94df72d5-a877-49f8-fe1f-ca42bd9fe78d"
   },
   "outputs": [
    {
     "name": "stdout",
     "output_type": "stream",
     "text": [
      "best mean cross-validation score: 0.522\n",
      "best parameters: {'n_neighbors': 4, 'weights': 'distance'}\n",
      "test-set score: 0.590\n"
     ]
    }
   ],
   "source": [
    "from sklearn.neighbors import KNeighborsClassifier\n",
    "from sklearn.model_selection import GridSearchCV\n",
    "\n",
    "param_grid_knn = {'n_neighbors': np.arange(1, 15),\n",
    "                  'weights': ['uniform', 'distance']}\n",
    "grid_knn = GridSearchCV(KNeighborsClassifier(), param_grid=param_grid_knn)\n",
    "grid_knn.fit(prediction_input_preprocessor.transform(X_train), y_train)\n",
    "print(\"best mean cross-validation score: {:.3f}\".format(grid_knn.best_score_))\n",
    "print(\"best parameters: {}\".format(grid_knn.best_params_))\n",
    "print(\"test-set score: {:.3f}\".format(grid_knn.score(prediction_input_preprocessor.transform(X_test), y_test)))"
   ]
  },
  {
   "cell_type": "markdown",
   "metadata": {
    "colab_type": "text",
    "id": "nIvS0jAx40N2"
   },
   "source": [
    "### 2.2 Evaluate the model"
   ]
  },
  {
   "cell_type": "code",
   "execution_count": 0,
   "metadata": {
    "colab": {
     "base_uri": "https://localhost:8080/",
     "height": 81
    },
    "colab_type": "code",
    "id": "ljtAXnQsSft-",
    "outputId": "ae990088-a1a7-459b-db79-b56f821d555c"
   },
   "outputs": [
    {
     "data": {
      "text/html": [
       "<div>\n",
       "<style scoped>\n",
       "    .dataframe tbody tr th:only-of-type {\n",
       "        vertical-align: middle;\n",
       "    }\n",
       "\n",
       "    .dataframe tbody tr th {\n",
       "        vertical-align: top;\n",
       "    }\n",
       "\n",
       "    .dataframe thead th {\n",
       "        text-align: right;\n",
       "    }\n",
       "</style>\n",
       "<table border=\"1\" class=\"dataframe\">\n",
       "  <thead>\n",
       "    <tr style=\"text-align: right;\">\n",
       "      <th></th>\n",
       "      <th>accuracy</th>\n",
       "      <th>f1_score</th>\n",
       "      <th>precision</th>\n",
       "      <th>recall</th>\n",
       "      <th>mse</th>\n",
       "      <th>rmse</th>\n",
       "      <th>mae</th>\n",
       "      <th>r2</th>\n",
       "    </tr>\n",
       "  </thead>\n",
       "  <tbody>\n",
       "    <tr>\n",
       "      <th>0</th>\n",
       "      <td>0.589744</td>\n",
       "      <td>0.563651</td>\n",
       "      <td>0.56619</td>\n",
       "      <td>0.569444</td>\n",
       "      <td>0</td>\n",
       "      <td>0</td>\n",
       "      <td>0</td>\n",
       "      <td>0</td>\n",
       "    </tr>\n",
       "  </tbody>\n",
       "</table>\n",
       "</div>"
      ],
      "text/plain": [
       "   accuracy  f1_score  precision    recall  mse  rmse  mae  r2\n",
       "0  0.589744  0.563651    0.56619  0.569444    0     0    0   0"
      ]
     },
     "execution_count": 183,
     "metadata": {
      "tags": []
     },
     "output_type": "execute_result"
    }
   ],
   "source": [
    "model2 = KNeighborsClassifier(n_neighbors=4,weights='distance')\n",
    "model2.fit(prediction_input_preprocessor.transform(X_train), y_train)\n",
    "\n",
    "y_pred=model2.predict(prediction_input_preprocessor.transform(X_test))\n",
    "\n",
    "modelevalobject=model_eval_metrics(y_test,y_pred,classification=\"TRUE\")\n",
    "modelevalobject"
   ]
  },
  {
   "cell_type": "markdown",
   "metadata": {
    "colab_type": "text",
    "id": "c2ikJXll4hsc"
   },
   "source": [
    "### 2.3 Discussion for hyper-parameter values\n",
    "\n",
    "---\n",
    "\n",
    "The parameters in this KNN model include `n_neighbors` and `weights`. I used `GridSearchCV` to find the best parameter combination.  \n",
    "\n",
    "> `n_neighbors`: Number of neighbors to use in the model. In this case, after grid search, the best value is **4**.  \n",
    "\n",
    "> `weights`: There are two kinds of weights in a sklearn KNN model.  \n",
    "1. `uniform` : uniform weights. All points in each neighborhood are weighted equally.  \n",
    "2. `distance` : weight points by the inverse of their distance. in this case, closer neighbors of a query point will have a greater influence than neighbors which are further away. After grid search, the better method is `distance`.  "
   ]
  },
  {
   "cell_type": "markdown",
   "metadata": {
    "colab_type": "text",
    "id": "2VCnJSRJT_AE"
   },
   "source": [
    "## Prediction Model #3 - Random Forest"
   ]
  },
  {
   "cell_type": "markdown",
   "metadata": {
    "colab_type": "text",
    "id": "rlqqepDV8g6s"
   },
   "source": [
    "### 3.1 Build the model"
   ]
  },
  {
   "cell_type": "code",
   "execution_count": 74,
   "metadata": {
    "colab": {
     "base_uri": "https://localhost:8080/",
     "height": 90
    },
    "colab_type": "code",
    "id": "mnnleAHIUC2O",
    "outputId": "e3868dba-c435-4d44-cce6-32993cca92ab"
   },
   "outputs": [
    {
     "name": "stdout",
     "output_type": "stream",
     "text": [
      "RANDOM FOREST (UNSCALED DATA)\n",
      "Test set Score: 0.641\n",
      "Best mean cross-validation score: 0.522\n",
      "Best Parameter: {'max_depth': 11, 'n_estimators': 100}\n"
     ]
    }
   ],
   "source": [
    "from sklearn.ensemble import RandomForestClassifier\n",
    "from sklearn.model_selection import GridSearchCV\n",
    "\n",
    "forest_param_grid = {'n_estimators': np.arange(100, 200, 300),\n",
    "                     'max_depth': np.arange(1, 20)}\n",
    "forest_grid = GridSearchCV(RandomForestClassifier(random_state = 20), forest_param_grid).fit(prediction_input_preprocessor.transform(X_train), y_train)\n",
    "\n",
    "print(\"RANDOM FOREST (UNSCALED DATA)\")\n",
    "print(\"Test set Score: {:.3f}\".format(forest_grid.score(prediction_input_preprocessor.transform(X_test), y_test)))\n",
    "print(\"Best mean cross-validation score: {:.3f}\".format(forest_grid.best_score_))\n",
    "print(\"Best Parameter: {}\".format(forest_grid.best_params_))"
   ]
  },
  {
   "cell_type": "markdown",
   "metadata": {
    "colab_type": "text",
    "id": "6hGPwnBS8nD-"
   },
   "source": [
    "### 3.2 Evaluate the model"
   ]
  },
  {
   "cell_type": "code",
   "execution_count": 75,
   "metadata": {
    "colab": {
     "base_uri": "https://localhost:8080/",
     "height": 81
    },
    "colab_type": "code",
    "id": "rqZDeIybVcs2",
    "outputId": "2b025edf-a291-455d-d9f8-f79226317619"
   },
   "outputs": [
    {
     "data": {
      "text/html": [
       "<div>\n",
       "<style scoped>\n",
       "    .dataframe tbody tr th:only-of-type {\n",
       "        vertical-align: middle;\n",
       "    }\n",
       "\n",
       "    .dataframe tbody tr th {\n",
       "        vertical-align: top;\n",
       "    }\n",
       "\n",
       "    .dataframe thead th {\n",
       "        text-align: right;\n",
       "    }\n",
       "</style>\n",
       "<table border=\"1\" class=\"dataframe\">\n",
       "  <thead>\n",
       "    <tr style=\"text-align: right;\">\n",
       "      <th></th>\n",
       "      <th>accuracy</th>\n",
       "      <th>f1_score</th>\n",
       "      <th>precision</th>\n",
       "      <th>recall</th>\n",
       "      <th>mse</th>\n",
       "      <th>rmse</th>\n",
       "      <th>mae</th>\n",
       "      <th>r2</th>\n",
       "    </tr>\n",
       "  </thead>\n",
       "  <tbody>\n",
       "    <tr>\n",
       "      <th>0</th>\n",
       "      <td>0.641026</td>\n",
       "      <td>0.631313</td>\n",
       "      <td>0.637143</td>\n",
       "      <td>0.638889</td>\n",
       "      <td>0</td>\n",
       "      <td>0</td>\n",
       "      <td>0</td>\n",
       "      <td>0</td>\n",
       "    </tr>\n",
       "  </tbody>\n",
       "</table>\n",
       "</div>"
      ],
      "text/plain": [
       "   accuracy  f1_score  precision    recall  mse  rmse  mae  r2\n",
       "0  0.641026  0.631313   0.637143  0.638889    0     0    0   0"
      ]
     },
     "execution_count": 75,
     "metadata": {
      "tags": []
     },
     "output_type": "execute_result"
    }
   ],
   "source": [
    "from sklearn.ensemble import RandomForestClassifier\n",
    "from sklearn.model_selection import GridSearchCV\n",
    "model3 = RandomForestClassifier(max_depth=11 ,n_estimators=100, random_state = 20)\n",
    "model3.fit(prediction_input_preprocessor.transform(X_train), y_train)\n",
    "\n",
    "y_pred=model3.predict(prediction_input_preprocessor.transform(X_test))\n",
    "\n",
    "modelevalobject=model_eval_metrics(y_test,y_pred,classification=\"TRUE\")\n",
    "modelevalobject"
   ]
  },
  {
   "cell_type": "markdown",
   "metadata": {
    "colab_type": "text",
    "id": "4nw4diwJ8wUZ"
   },
   "source": [
    "### 3.3 Discussion for hyper-parameter values\n",
    "\n",
    "---\n",
    "\n",
    "The parameters in this Random Forest model include `max_depth` and `n_estimators`. I used `GridSearchCV` to find the best parameter combination.\n",
    "\n",
    "> `max_depth`: The maximum depth of the tree. In this model, it is **11**.\n",
    "\n",
    "> `n_estimators`:  The number of trees in the forest. In this model, the number of trees is **100**.\n"
   ]
  },
  {
   "cell_type": "markdown",
   "metadata": {
    "colab_type": "text",
    "id": "PyJeafIT-wb6"
   },
   "source": [
    "## Model selection\n",
    "\n",
    "---\n",
    "\n",
    "> In this report, the final model I would like to choose is Keras Deep Learning Model. This model predicts the best among the three models discussed above. Shown by the evaluation metrics, Keras has the better result.  \n",
    "\n",
    "> However, I do not believe that deep learning is simply better than traditional machine learning methods, since the original data is the governor which decides the quality of the prediction outcomes. In this World Happiness Analysis, the original dataset is quite small, having only 117 observations in the training dataset. \n",
    "\n",
    "> There is a saying that deep learning is better dealing with huge scale of data, however, it did better in this small case. This is partly due to the randomness. if I change those `random_state`, I probably get different result. From my view, I think Random Forest is also a good model for this dataset prediction analysis, since it have a 0.64 accuracy. It's pretty good as well. But following those metrics only, my final decision is choosing the deep learning model, which I already uploaded in Part 1.4."
   ]
  },
  {
   "cell_type": "markdown",
   "metadata": {
    "colab_type": "text",
    "id": "fruBZCkPpJbo"
   },
   "source": [
    "## Github Repo url\n",
    "\n",
    "---\n",
    "\n",
    "My public Github Repo url for this report and it `.ipynb` file is: https://github.com/3scman/Adv_ML_Repo_ChengMan/tree/master/HW01."
   ]
  }
 ],
 "metadata": {
  "accelerator": "GPU",
  "colab": {
   "collapsed_sections": [],
   "name": "AdvML_HW1_ChengMan.ipynb",
   "provenance": []
  },
  "kernelspec": {
   "display_name": "Python 3",
   "language": "python",
   "name": "python3"
  },
  "language_info": {
   "codemirror_mode": {
    "name": "ipython",
    "version": 3
   },
   "file_extension": ".py",
   "mimetype": "text/x-python",
   "name": "python",
   "nbconvert_exporter": "python",
   "pygments_lexer": "ipython3",
   "version": "3.7.3"
  }
 },
 "nbformat": 4,
 "nbformat_minor": 1
}
