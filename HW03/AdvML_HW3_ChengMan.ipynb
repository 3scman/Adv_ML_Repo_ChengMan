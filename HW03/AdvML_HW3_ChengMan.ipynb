{
 "cells": [
  {
   "cell_type": "markdown",
   "metadata": {
    "colab_type": "text",
    "id": "ftx3zZt8OHvd"
   },
   "source": [
    "#Advanced Machine Learning - Assignment #1\n",
    "## BBC News Category Classification Mini-Hackathon\n",
    "Cheng Man  \n",
    "2020/05/07\n",
    "\n",
    "\n",
    "\n",
    "\n"
   ]
  },
  {
   "cell_type": "markdown",
   "metadata": {
    "colab_type": "text",
    "id": "VlPnbnQZUj_n"
   },
   "source": [
    "### Description of the dataset\n",
    "---\n",
    "For this BBC dataset, every single row represents a news article from BBC. The dataset has two columns: `category`(which category the article is belong) and `text`(the raw text in the article). There are 2,225 articles in the dataset from 5 categories: tech, business, sport, entertainment and politics.  "
   ]
  },
  {
   "cell_type": "code",
   "execution_count": 5,
   "metadata": {
    "colab": {
     "base_uri": "https://localhost:8080/",
     "height": 424
    },
    "colab_type": "code",
    "id": "YoqSwgStNzT4",
    "outputId": "ed69cb47-da2d-43b5-8648-267cec315ca7"
   },
   "outputs": [
    {
     "data": {
      "text/html": [
       "<div>\n",
       "<style scoped>\n",
       "    .dataframe tbody tr th:only-of-type {\n",
       "        vertical-align: middle;\n",
       "    }\n",
       "\n",
       "    .dataframe tbody tr th {\n",
       "        vertical-align: top;\n",
       "    }\n",
       "\n",
       "    .dataframe thead th {\n",
       "        text-align: right;\n",
       "    }\n",
       "</style>\n",
       "<table border=\"1\" class=\"dataframe\">\n",
       "  <thead>\n",
       "    <tr style=\"text-align: right;\">\n",
       "      <th></th>\n",
       "      <th>category</th>\n",
       "      <th>text</th>\n",
       "    </tr>\n",
       "  </thead>\n",
       "  <tbody>\n",
       "    <tr>\n",
       "      <th>0</th>\n",
       "      <td>tech</td>\n",
       "      <td>tv future in the hands of viewers with home th...</td>\n",
       "    </tr>\n",
       "    <tr>\n",
       "      <th>1</th>\n",
       "      <td>business</td>\n",
       "      <td>worldcom boss  left books alone  former worldc...</td>\n",
       "    </tr>\n",
       "    <tr>\n",
       "      <th>2</th>\n",
       "      <td>sport</td>\n",
       "      <td>tigers wary of farrell  gamble  leicester say ...</td>\n",
       "    </tr>\n",
       "    <tr>\n",
       "      <th>3</th>\n",
       "      <td>sport</td>\n",
       "      <td>yeading face newcastle in fa cup premiership s...</td>\n",
       "    </tr>\n",
       "    <tr>\n",
       "      <th>4</th>\n",
       "      <td>entertainment</td>\n",
       "      <td>ocean s twelve raids box office ocean s twelve...</td>\n",
       "    </tr>\n",
       "    <tr>\n",
       "      <th>...</th>\n",
       "      <td>...</td>\n",
       "      <td>...</td>\n",
       "    </tr>\n",
       "    <tr>\n",
       "      <th>2220</th>\n",
       "      <td>business</td>\n",
       "      <td>cars pull down us retail figures us retail sal...</td>\n",
       "    </tr>\n",
       "    <tr>\n",
       "      <th>2221</th>\n",
       "      <td>politics</td>\n",
       "      <td>kilroy unveils immigration policy ex-chatshow ...</td>\n",
       "    </tr>\n",
       "    <tr>\n",
       "      <th>2222</th>\n",
       "      <td>entertainment</td>\n",
       "      <td>rem announce new glasgow concert us band rem h...</td>\n",
       "    </tr>\n",
       "    <tr>\n",
       "      <th>2223</th>\n",
       "      <td>politics</td>\n",
       "      <td>how political squabbles snowball it s become c...</td>\n",
       "    </tr>\n",
       "    <tr>\n",
       "      <th>2224</th>\n",
       "      <td>sport</td>\n",
       "      <td>souness delight at euro progress boss graeme s...</td>\n",
       "    </tr>\n",
       "  </tbody>\n",
       "</table>\n",
       "<p>2225 rows × 2 columns</p>\n",
       "</div>"
      ],
      "text/plain": [
       "           category                                               text\n",
       "0              tech  tv future in the hands of viewers with home th...\n",
       "1          business  worldcom boss  left books alone  former worldc...\n",
       "2             sport  tigers wary of farrell  gamble  leicester say ...\n",
       "3             sport  yeading face newcastle in fa cup premiership s...\n",
       "4     entertainment  ocean s twelve raids box office ocean s twelve...\n",
       "...             ...                                                ...\n",
       "2220       business  cars pull down us retail figures us retail sal...\n",
       "2221       politics  kilroy unveils immigration policy ex-chatshow ...\n",
       "2222  entertainment  rem announce new glasgow concert us band rem h...\n",
       "2223       politics  how political squabbles snowball it s become c...\n",
       "2224          sport  souness delight at euro progress boss graeme s...\n",
       "\n",
       "[2225 rows x 2 columns]"
      ]
     },
     "execution_count": 5,
     "metadata": {
      "tags": []
     },
     "output_type": "execute_result"
    }
   ],
   "source": [
    "import pandas as pd\n",
    "df = pd.read_csv(\"https://storage.googleapis.com/dataset-uploader/bbc/bbc-text.csv\")\n",
    "df"
   ]
  },
  {
   "cell_type": "code",
   "execution_count": 20,
   "metadata": {
    "colab": {
     "base_uri": "https://localhost:8080/",
     "height": 297
    },
    "colab_type": "code",
    "id": "igNQI-W5UVuO",
    "outputId": "6279d55f-e646-4928-e5b5-af4d5a9f3b24"
   },
   "outputs": [
    {
     "data": {
      "text/plain": [
       "<matplotlib.axes._subplots.AxesSubplot at 0x7fa1f68b95c0>"
      ]
     },
     "execution_count": 20,
     "metadata": {
      "tags": []
     },
     "output_type": "execute_result"
    },
    {
     "data": {
      "image/png": "[encoded data removed]",
      "text/plain": [
       "<Figure size 432x288 with 1 Axes>"
      ]
     },
     "metadata": {
      "needs_background": "light",
      "tags": []
     },
     "output_type": "display_data"
    }
   ],
   "source": [
    "# Visualization the category variable\n",
    "import seaborn as sns\n",
    "\n",
    "sns.countplot(df['category'])"
   ]
  },
  {
   "cell_type": "code",
   "execution_count": 22,
   "metadata": {
    "colab": {
     "base_uri": "https://localhost:8080/",
     "height": 55
    },
    "colab_type": "code",
    "id": "OveUT3GmUZZR",
    "outputId": "c709cc15-e121-4792-edb3-5047fe296d01"
   },
   "outputs": [
    {
     "data": {
      "text/plain": [
       "'tv future in the hands of viewers with home theatre systems  plasma high-definition tvs  and digital video recorders moving into the living room  the way people watch tv will be radically different in five years  time.  that is according to an expert panel which gathered at the annual consumer electronics show in las vegas to discuss how these new technologies will impact one of our favourite pastimes. with the us leading the trend  programmes and other content will be delivered to viewers via home networks  through cable  satellite  telecoms companies  and broadband service providers to front rooms and portable devices.  one of the most talked-about technologies of ces has been digital and personal video recorders (dvr and pvr). these set-top boxes  like the us s tivo and the uk s sky+ system  allow people to record  store  play  pause and forward wind tv programmes when they want.  essentially  the technology allows for much more personalised tv. they are also being built-in to high-definition tv sets  which are big business in japan and the us  but slower to take off in europe because of the lack of high-definition programming. not only can people forward wind through adverts  they can also forget about abiding by network and channel schedules  putting together their own a-la-carte entertainment. but some us networks and cable and satellite companies are worried about what it means for them in terms of advertising revenues as well as  brand identity  and viewer loyalty to channels. although the us leads in this technology at the moment  it is also a concern that is being raised in europe  particularly with the growing uptake of services like sky+.  what happens here today  we will see in nine months to a years  time in the uk   adam hume  the bbc broadcast s futurologist told the bbc news website. for the likes of the bbc  there are no issues of lost advertising revenue yet. it is a more pressing issue at the moment for commercial uk broadcasters  but brand loyalty is important for everyone.  we will be talking more about content brands rather than network brands   said tim hanlon  from brand communications firm starcom mediavest.  the reality is that with broadband connections  anybody can be the producer of content.  he added:  the challenge now is that it is hard to promote a programme with so much choice.   what this means  said stacey jolna  senior vice president of tv guide tv group  is that the way people find the content they want to watch has to be simplified for tv viewers. it means that networks  in us terms  or channels could take a leaf out of google s book and be the search engine of the future  instead of the scheduler to help people find what they want to watch. this kind of channel model might work for the younger ipod generation which is used to taking control of their gadgets and what they play on them. but it might not suit everyone  the panel recognised. older generations are more comfortable with familiar schedules and channel brands because they know what they are getting. they perhaps do not want so much of the choice put into their hands  mr hanlon suggested.  on the other end  you have the kids just out of diapers who are pushing buttons already - everything is possible and available to them   said mr hanlon.  ultimately  the consumer will tell the market they want.   of the 50 000 new gadgets and technologies being showcased at ces  many of them are about enhancing the tv-watching experience. high-definition tv sets are everywhere and many new models of lcd (liquid crystal display) tvs have been launched with dvr capability built into them  instead of being external boxes. one such example launched at the show is humax s 26-inch lcd tv with an 80-hour tivo dvr and dvd recorder. one of the us s biggest satellite tv companies  directtv  has even launched its own branded dvr at the show with 100-hours of recording capability  instant replay  and a search function. the set can pause and rewind tv for up to 90 hours. and microsoft chief bill gates announced in his pre-show keynote speech a partnership with tivo  called tivotogo  which means people can play recorded programmes on windows pcs and mobile devices. all these reflect the increasing trend of freeing up multimedia so that people can watch what they want  when they want.'"
      ]
     },
     "execution_count": 22,
     "metadata": {
      "tags": []
     },
     "output_type": "execute_result"
    }
   ],
   "source": [
    "df['text'][0]"
   ]
  },
  {
   "cell_type": "markdown",
   "metadata": {
    "colab_type": "text",
    "id": "B2aHIxSLV0bN"
   },
   "source": [
    "### Data Preprocessing"
   ]
  },
  {
   "cell_type": "code",
   "execution_count": 0,
   "metadata": {
    "colab": {},
    "colab_type": "code",
    "id": "oD3f_FXRRU6Q"
   },
   "outputs": [],
   "source": [
    "X = df['text']\n",
    "y = df['category']"
   ]
  },
  {
   "cell_type": "code",
   "execution_count": 18,
   "metadata": {
    "colab": {
     "base_uri": "https://localhost:8080/",
     "height": 146
    },
    "colab_type": "code",
    "id": "NKvNRzI6QNOV",
    "outputId": "811e4cf5-c590-444b-f009-ae270da70e44"
   },
   "outputs": [
    {
     "name": "stdout",
     "output_type": "stream",
     "text": [
      "Found 29726 unique tokens.\n",
      "Shape of text tensor: (2225, 100)\n",
      "Shape of category tensor: (2225,)\n",
      "Shape of X_train (1668, 100)\n",
      "Shape of X_test (557, 100)\n",
      "Shape of y_train (1668,)\n",
      "Shape of y_test (557,)\n"
     ]
    }
   ],
   "source": [
    "# Tokenize the data into one hot vectors\n",
    "from keras.preprocessing.text import Tokenizer\n",
    "from keras.preprocessing.sequence import pad_sequences\n",
    "import numpy as np\n",
    "\n",
    "maxlen = 100  # We will cut reviews after 100 words\n",
    "max_words = 10000  # We will only consider the top 10,000 words in the dataset\n",
    "\n",
    "tokenizer = Tokenizer(num_words=max_words)\n",
    "tokenizer.fit_on_texts(X)\n",
    "sequences = tokenizer.texts_to_sequences(X) # converts words in each text to each word's numeric index in tokenizer dictionary.\n",
    "\n",
    "word_index = tokenizer.word_index\n",
    "print('Found %s unique tokens.' % len(word_index))\n",
    "\n",
    "X = pad_sequences(sequences, maxlen=maxlen)\n",
    "\n",
    "y = np.asarray(y)\n",
    "\n",
    "print('Shape of text tensor:', X.shape)\n",
    "print('Shape of category tensor:', y.shape)\n",
    "\n",
    "# Train test split\n",
    "from sklearn.model_selection import train_test_split\n",
    "\n",
    "X_train, X_test, y_train, y_test = train_test_split(X, y, random_state=12)\n",
    "print('Shape of X_train', X_train.shape)\n",
    "print('Shape of X_test', X_test.shape)\n",
    "print('Shape of y_train', y_train.shape)\n",
    "print('Shape of y_test', y_test.shape)\n"
   ]
  },
  {
   "cell_type": "markdown",
   "metadata": {
    "colab_type": "text",
    "id": "j2X4sqDyW2G3"
   },
   "source": [
    "### Build Models"
   ]
  },
  {
   "cell_type": "markdown",
   "metadata": {
    "colab_type": "text",
    "id": "Cuds_o-XW8A0"
   },
   "source": [
    "#### Model #1: A model with an embedding layer and dense layers (but w/ no layers meant for sequential data)"
   ]
  },
  {
   "cell_type": "code",
   "execution_count": 121,
   "metadata": {
    "colab": {
     "base_uri": "https://localhost:8080/",
     "height": 1000
    },
    "colab_type": "code",
    "id": "yGwzf_6uW5qw",
    "outputId": "02c7b8fb-6315-481f-fc8e-8bc42d781c38"
   },
   "outputs": [
    {
     "name": "stdout",
     "output_type": "stream",
     "text": [
      "Model: \"sequential_48\"\n",
      "_________________________________________________________________\n",
      "Layer (type)                 Output Shape              Param #   \n",
      "=================================================================\n",
      "embedding_48 (Embedding)     (None, 100, 32)           320000    \n",
      "_________________________________________________________________\n",
      "flatten_18 (Flatten)         (None, 3200)              0         \n",
      "_________________________________________________________________\n",
      "dense_44 (Dense)             (None, 5)                 16005     \n",
      "=================================================================\n",
      "Total params: 336,005\n",
      "Trainable params: 336,005\n",
      "Non-trainable params: 0\n",
      "_________________________________________________________________\n"
     ]
    },
    {
     "name": "stderr",
     "output_type": "stream",
     "text": [
      "/usr/local/lib/python3.6/dist-packages/tensorflow/python/framework/indexed_slices.py:434: UserWarning: Converting sparse IndexedSlices to a dense Tensor of unknown shape. This may consume a large amount of memory.\n",
      "  \"Converting sparse IndexedSlices to a dense Tensor of unknown shape. \"\n"
     ]
    },
    {
     "name": "stdout",
     "output_type": "stream",
     "text": [
      "Epoch 1/24\n",
      "1668/1668 [==============================] - 0s 84us/step - loss: 1.6009 - acc: 0.2632\n",
      "Epoch 2/24\n",
      "1668/1668 [==============================] - 0s 56us/step - loss: 1.5071 - acc: 0.7188\n",
      "Epoch 3/24\n",
      "1668/1668 [==============================] - 0s 53us/step - loss: 1.4190 - acc: 0.7650\n",
      "Epoch 4/24\n",
      "1668/1668 [==============================] - 0s 61us/step - loss: 1.3067 - acc: 0.8627\n",
      "Epoch 5/24\n",
      "1668/1668 [==============================] - 0s 62us/step - loss: 1.1623 - acc: 0.9239\n",
      "Epoch 6/24\n",
      "1668/1668 [==============================] - 0s 52us/step - loss: 0.9953 - acc: 0.9610\n",
      "Epoch 7/24\n",
      "1668/1668 [==============================] - 0s 55us/step - loss: 0.8162 - acc: 0.9790\n",
      "Epoch 8/24\n",
      "1668/1668 [==============================] - 0s 57us/step - loss: 0.6451 - acc: 0.9904\n",
      "Epoch 9/24\n",
      "1668/1668 [==============================] - 0s 56us/step - loss: 0.4953 - acc: 0.9964\n",
      "Epoch 10/24\n",
      "1668/1668 [==============================] - 0s 76us/step - loss: 0.3688 - acc: 0.9982\n",
      "Epoch 11/24\n",
      "1668/1668 [==============================] - 0s 55us/step - loss: 0.2660 - acc: 0.9994\n",
      "Epoch 12/24\n",
      "1668/1668 [==============================] - 0s 51us/step - loss: 0.1856 - acc: 0.9994\n",
      "Epoch 13/24\n",
      "1668/1668 [==============================] - 0s 59us/step - loss: 0.1287 - acc: 1.0000\n",
      "Epoch 14/24\n",
      "1668/1668 [==============================] - 0s 52us/step - loss: 0.0880 - acc: 1.0000\n",
      "Epoch 15/24\n",
      "1668/1668 [==============================] - 0s 53us/step - loss: 0.0593 - acc: 1.0000\n",
      "Epoch 16/24\n",
      "1668/1668 [==============================] - 0s 61us/step - loss: 0.0393 - acc: 1.0000\n",
      "Epoch 17/24\n",
      "1668/1668 [==============================] - 0s 56us/step - loss: 0.0258 - acc: 1.0000\n",
      "Epoch 18/24\n",
      "1668/1668 [==============================] - 0s 55us/step - loss: 0.0169 - acc: 1.0000\n",
      "Epoch 19/24\n",
      "1668/1668 [==============================] - 0s 52us/step - loss: 0.0110 - acc: 1.0000\n",
      "Epoch 20/24\n",
      "1668/1668 [==============================] - 0s 52us/step - loss: 0.0071 - acc: 1.0000\n",
      "Epoch 21/24\n",
      "1668/1668 [==============================] - 0s 58us/step - loss: 0.0046 - acc: 1.0000\n",
      "Epoch 22/24\n",
      "1668/1668 [==============================] - 0s 53us/step - loss: 0.0030 - acc: 1.0000\n",
      "Epoch 23/24\n",
      "1668/1668 [==============================] - 0s 55us/step - loss: 0.0019 - acc: 1.0000\n",
      "Epoch 24/24\n",
      "1668/1668 [==============================] - 0s 50us/step - loss: 0.0012 - acc: 1.0000\n"
     ]
    }
   ],
   "source": [
    "from keras.layers import Dense, Embedding\n",
    "from keras.models import Sequential\n",
    "from keras.layers import Flatten, Dense\n",
    "from keras.optimizers import RMSprop\n",
    "\n",
    "model1 = Sequential()\n",
    "model1.add(Embedding(max_words, 32, input_length=maxlen))\n",
    "model1.add(Flatten())\n",
    "model1.add(Dense(5, activation='softmax'))\n",
    "model1.compile(optimizer=RMSprop(lr=0.001), loss='categorical_crossentropy', metrics=['acc'])\n",
    "model1.summary()\n",
    "\n",
    "history = model1.fit(X_train, pd.get_dummies(y_train), epochs=24, batch_size=128)"
   ]
  },
  {
   "cell_type": "code",
   "execution_count": 122,
   "metadata": {
    "colab": {
     "base_uri": "https://localhost:8080/",
     "height": 54
    },
    "colab_type": "code",
    "id": "QfrJD9jqZ6xS",
    "outputId": "adbdb703-dfe6-4fc3-930e-8304bb33ecdb"
   },
   "outputs": [
    {
     "name": "stdout",
     "output_type": "stream",
     "text": [
      "557/557 [==============================] - 0s 73us/step\n",
      "Test loss, Test acc: [0.3129880689418937, 0.9012567400932312]\n"
     ]
    }
   ],
   "source": [
    "result1 = model1.evaluate(X_test, pd.get_dummies(y_test))\n",
    "print('Test loss, Test acc:', result1)"
   ]
  },
  {
   "cell_type": "markdown",
   "metadata": {
    "colab_type": "text",
    "id": "tpBqRj22bZQG"
   },
   "source": [
    "#### Model #2: A model using an Embedding layer with Conv1d Layers"
   ]
  },
  {
   "cell_type": "code",
   "execution_count": 123,
   "metadata": {
    "colab": {
     "base_uri": "https://localhost:8080/",
     "height": 1000
    },
    "colab_type": "code",
    "id": "ETUdjiTbbW1N",
    "outputId": "3733ff5f-7835-4156-c761-c89bc021cc6e"
   },
   "outputs": [
    {
     "name": "stdout",
     "output_type": "stream",
     "text": [
      "Model: \"sequential_49\"\n",
      "_________________________________________________________________\n",
      "Layer (type)                 Output Shape              Param #   \n",
      "=================================================================\n",
      "embedding_49 (Embedding)     (None, 100, 32)           320000    \n",
      "_________________________________________________________________\n",
      "conv1d_6 (Conv1D)            (None, 91, 64)            20544     \n",
      "_________________________________________________________________\n",
      "global_max_pooling1d_6 (Glob (None, 64)                0         \n",
      "_________________________________________________________________\n",
      "dense_45 (Dense)             (None, 5)                 325       \n",
      "=================================================================\n",
      "Total params: 340,869\n",
      "Trainable params: 340,869\n",
      "Non-trainable params: 0\n",
      "_________________________________________________________________\n"
     ]
    },
    {
     "name": "stderr",
     "output_type": "stream",
     "text": [
      "/usr/local/lib/python3.6/dist-packages/tensorflow/python/framework/indexed_slices.py:434: UserWarning: Converting sparse IndexedSlices to a dense Tensor of unknown shape. This may consume a large amount of memory.\n",
      "  \"Converting sparse IndexedSlices to a dense Tensor of unknown shape. \"\n"
     ]
    },
    {
     "name": "stdout",
     "output_type": "stream",
     "text": [
      "Epoch 1/24\n",
      "1668/1668 [==============================] - 1s 450us/step - loss: 1.5957 - acc: 0.2866\n",
      "Epoch 2/24\n",
      "1668/1668 [==============================] - 1s 382us/step - loss: 1.5426 - acc: 0.3267\n",
      "Epoch 3/24\n",
      "1668/1668 [==============================] - 1s 375us/step - loss: 1.4970 - acc: 0.4538\n",
      "Epoch 4/24\n",
      "1668/1668 [==============================] - 1s 393us/step - loss: 1.4388 - acc: 0.4916\n",
      "Epoch 5/24\n",
      "1668/1668 [==============================] - 1s 387us/step - loss: 1.3599 - acc: 0.5462\n",
      "Epoch 6/24\n",
      "1668/1668 [==============================] - 1s 392us/step - loss: 1.2618 - acc: 0.5641\n",
      "Epoch 7/24\n",
      "1668/1668 [==============================] - 1s 386us/step - loss: 1.1521 - acc: 0.6229\n",
      "Epoch 8/24\n",
      "1668/1668 [==============================] - 1s 368us/step - loss: 1.0377 - acc: 0.7326\n",
      "Epoch 9/24\n",
      "1668/1668 [==============================] - 1s 369us/step - loss: 0.9217 - acc: 0.8381\n",
      "Epoch 10/24\n",
      "1668/1668 [==============================] - 1s 361us/step - loss: 0.8038 - acc: 0.8903\n",
      "Epoch 11/24\n",
      "1668/1668 [==============================] - 1s 387us/step - loss: 0.6829 - acc: 0.9412\n",
      "Epoch 12/24\n",
      "1668/1668 [==============================] - 1s 385us/step - loss: 0.5627 - acc: 0.9586\n",
      "Epoch 13/24\n",
      "1668/1668 [==============================] - 1s 380us/step - loss: 0.4571 - acc: 0.9736\n",
      "Epoch 14/24\n",
      "1668/1668 [==============================] - 1s 394us/step - loss: 0.3605 - acc: 0.9844\n",
      "Epoch 15/24\n",
      "1668/1668 [==============================] - 1s 385us/step - loss: 0.2808 - acc: 0.9916\n",
      "Epoch 16/24\n",
      "1668/1668 [==============================] - 1s 406us/step - loss: 0.2182 - acc: 0.9934\n",
      "Epoch 17/24\n",
      "1668/1668 [==============================] - 1s 380us/step - loss: 0.1645 - acc: 0.9964\n",
      "Epoch 18/24\n",
      "1668/1668 [==============================] - 1s 383us/step - loss: 0.1228 - acc: 0.9982\n",
      "Epoch 19/24\n",
      "1668/1668 [==============================] - 1s 397us/step - loss: 0.0880 - acc: 0.9994\n",
      "Epoch 20/24\n",
      "1668/1668 [==============================] - 1s 402us/step - loss: 0.0627 - acc: 0.9994\n",
      "Epoch 21/24\n",
      "1668/1668 [==============================] - 1s 394us/step - loss: 0.0457 - acc: 0.9994\n",
      "Epoch 22/24\n",
      "1668/1668 [==============================] - 1s 389us/step - loss: 0.0332 - acc: 1.0000\n",
      "Epoch 23/24\n",
      "1668/1668 [==============================] - 1s 385us/step - loss: 0.0238 - acc: 1.0000\n",
      "Epoch 24/24\n",
      "1668/1668 [==============================] - 1s 381us/step - loss: 0.0168 - acc: 1.0000\n"
     ]
    }
   ],
   "source": [
    "from keras import layers\n",
    "\n",
    "model2 = Sequential()\n",
    "model2.add(Embedding(max_words, 32, input_length=maxlen))\n",
    "model2.add(layers.Conv1D(64, 10, activation='relu')) \n",
    "model2.add(layers.GlobalMaxPooling1D())\n",
    "model2.add(Dense(5, activation='softmax'))\n",
    "model2.compile(optimizer=RMSprop(lr=0.001), loss='categorical_crossentropy', metrics=['acc'])\n",
    "model2.summary()\n",
    "\n",
    "history = model2.fit(X_train, pd.get_dummies(y_train), epochs=24, batch_size=128)"
   ]
  },
  {
   "cell_type": "code",
   "execution_count": 124,
   "metadata": {
    "colab": {
     "base_uri": "https://localhost:8080/",
     "height": 54
    },
    "colab_type": "code",
    "id": "WvPxXHDQc2rp",
    "outputId": "68315ad9-110d-4c58-8c1c-7106aaaf8b28"
   },
   "outputs": [
    {
     "name": "stdout",
     "output_type": "stream",
     "text": [
      "557/557 [==============================] - 0s 184us/step\n",
      "Test loss, Test acc: [0.2774705849119748, 0.9192100763320923]\n"
     ]
    }
   ],
   "source": [
    "result2 = model2.evaluate(X_test, pd.get_dummies(y_test))\n",
    "print('Test loss, Test acc:', result2)"
   ]
  },
  {
   "cell_type": "markdown",
   "metadata": {
    "colab_type": "text",
    "id": "jz6OJb3MdpBN"
   },
   "source": [
    "#### Model #3: A model using an Embedding layer with one sequential layer (LSTM or GRU)"
   ]
  },
  {
   "cell_type": "code",
   "execution_count": 125,
   "metadata": {
    "colab": {
     "base_uri": "https://localhost:8080/",
     "height": 1000
    },
    "colab_type": "code",
    "id": "7bVPDR0udwMb",
    "outputId": "e2eef3fe-3d3e-439c-984e-1e557263c87a"
   },
   "outputs": [
    {
     "name": "stdout",
     "output_type": "stream",
     "text": [
      "Model: \"sequential_50\"\n",
      "_________________________________________________________________\n",
      "Layer (type)                 Output Shape              Param #   \n",
      "=================================================================\n",
      "embedding_50 (Embedding)     (None, 100, 32)           320000    \n",
      "_________________________________________________________________\n",
      "lstm_35 (LSTM)               (None, 32)                8320      \n",
      "_________________________________________________________________\n",
      "dense_46 (Dense)             (None, 5)                 165       \n",
      "=================================================================\n",
      "Total params: 328,485\n",
      "Trainable params: 328,485\n",
      "Non-trainable params: 0\n",
      "_________________________________________________________________\n"
     ]
    },
    {
     "name": "stderr",
     "output_type": "stream",
     "text": [
      "/usr/local/lib/python3.6/dist-packages/tensorflow/python/framework/indexed_slices.py:434: UserWarning: Converting sparse IndexedSlices to a dense Tensor of unknown shape. This may consume a large amount of memory.\n",
      "  \"Converting sparse IndexedSlices to a dense Tensor of unknown shape. \"\n"
     ]
    },
    {
     "name": "stdout",
     "output_type": "stream",
     "text": [
      "Epoch 1/24\n",
      "1668/1668 [==============================] - 1s 887us/step - loss: 1.6032 - acc: 0.2230\n",
      "Epoch 2/24\n",
      "1668/1668 [==============================] - 1s 723us/step - loss: 1.4572 - acc: 0.3261\n",
      "Epoch 3/24\n",
      "1668/1668 [==============================] - 1s 738us/step - loss: 1.2226 - acc: 0.4418\n",
      "Epoch 4/24\n",
      "1668/1668 [==============================] - 1s 749us/step - loss: 1.1438 - acc: 0.4299\n",
      "Epoch 5/24\n",
      "1668/1668 [==============================] - 1s 741us/step - loss: 1.0718 - acc: 0.4269\n",
      "Epoch 6/24\n",
      "1668/1668 [==============================] - 1s 752us/step - loss: 1.0338 - acc: 0.4430\n",
      "Epoch 7/24\n",
      "1668/1668 [==============================] - 1s 740us/step - loss: 0.9811 - acc: 0.5114\n",
      "Epoch 8/24\n",
      "1668/1668 [==============================] - 1s 731us/step - loss: 0.9547 - acc: 0.5168\n",
      "Epoch 9/24\n",
      "1668/1668 [==============================] - 1s 735us/step - loss: 0.9116 - acc: 0.6145\n",
      "Epoch 10/24\n",
      "1668/1668 [==============================] - 1s 728us/step - loss: 0.8679 - acc: 0.6469\n",
      "Epoch 11/24\n",
      "1668/1668 [==============================] - 1s 725us/step - loss: 0.8352 - acc: 0.7572\n",
      "Epoch 12/24\n",
      "1668/1668 [==============================] - 1s 731us/step - loss: 0.7579 - acc: 0.7836\n",
      "Epoch 13/24\n",
      "1668/1668 [==============================] - 1s 727us/step - loss: 0.6413 - acc: 0.8591\n",
      "Epoch 14/24\n",
      "1668/1668 [==============================] - 1s 730us/step - loss: 0.6710 - acc: 0.7464\n",
      "Epoch 15/24\n",
      "1668/1668 [==============================] - 1s 727us/step - loss: 0.5426 - acc: 0.7926\n",
      "Epoch 16/24\n",
      "1668/1668 [==============================] - 1s 733us/step - loss: 0.4849 - acc: 0.8201\n",
      "Epoch 17/24\n",
      "1668/1668 [==============================] - 1s 719us/step - loss: 0.4792 - acc: 0.7956\n",
      "Epoch 18/24\n",
      "1668/1668 [==============================] - 1s 740us/step - loss: 0.4898 - acc: 0.7908\n",
      "Epoch 19/24\n",
      "1668/1668 [==============================] - 1s 749us/step - loss: 0.3655 - acc: 0.8717\n",
      "Epoch 20/24\n",
      "1668/1668 [==============================] - 1s 739us/step - loss: 0.3735 - acc: 0.9023\n",
      "Epoch 21/24\n",
      "1668/1668 [==============================] - 1s 760us/step - loss: 0.3400 - acc: 0.9496\n",
      "Epoch 22/24\n",
      "1668/1668 [==============================] - 1s 777us/step - loss: 0.3128 - acc: 0.9610\n",
      "Epoch 23/24\n",
      "1668/1668 [==============================] - 1s 790us/step - loss: 0.2840 - acc: 0.9784\n",
      "Epoch 24/24\n",
      "1668/1668 [==============================] - 1s 728us/step - loss: 0.2367 - acc: 0.9880\n"
     ]
    }
   ],
   "source": [
    "model3 = Sequential()\n",
    "model3.add(Embedding(max_words, 32, input_length=maxlen))\n",
    "model3.add(layers.LSTM(32))\n",
    "model3.add(Dense(5, activation='softmax'))\n",
    "model3.compile(optimizer=RMSprop(lr=0.001), loss='categorical_crossentropy', metrics=['acc'])\n",
    "model3.summary()\n",
    "\n",
    "history = model3.fit(X_train, pd.get_dummies(y_train), epochs=24, batch_size=128)"
   ]
  },
  {
   "cell_type": "code",
   "execution_count": 126,
   "metadata": {
    "colab": {
     "base_uri": "https://localhost:8080/",
     "height": 54
    },
    "colab_type": "code",
    "id": "jfPeXWVQejvH",
    "outputId": "06f06f9e-752e-457a-99d4-06c99f545166"
   },
   "outputs": [
    {
     "name": "stdout",
     "output_type": "stream",
     "text": [
      "557/557 [==============================] - 0s 411us/step\n",
      "Test loss, Test acc: [0.6251243842996429, 0.7845601439476013]\n"
     ]
    }
   ],
   "source": [
    "result3 = model3.evaluate(X_test, pd.get_dummies(y_test))\n",
    "print('Test loss, Test acc:', result3)"
   ]
  },
  {
   "cell_type": "markdown",
   "metadata": {
    "colab_type": "text",
    "id": "KPgTdXrsfLi6"
   },
   "source": [
    "#### Model #4: A model using an Embedding layer with stacked sequential layers (LSTM or GRU)"
   ]
  },
  {
   "cell_type": "code",
   "execution_count": 127,
   "metadata": {
    "colab": {
     "base_uri": "https://localhost:8080/",
     "height": 1000
    },
    "colab_type": "code",
    "id": "Z3r__FXgenHr",
    "outputId": "2b5a9e27-6109-4868-8aee-d992f2a36c25"
   },
   "outputs": [
    {
     "name": "stdout",
     "output_type": "stream",
     "text": [
      "Model: \"sequential_51\"\n",
      "_________________________________________________________________\n",
      "Layer (type)                 Output Shape              Param #   \n",
      "=================================================================\n",
      "embedding_51 (Embedding)     (None, 100, 32)           320000    \n",
      "_________________________________________________________________\n",
      "lstm_36 (LSTM)               (None, 100, 32)           8320      \n",
      "_________________________________________________________________\n",
      "lstm_37 (LSTM)               (None, 100, 32)           8320      \n",
      "_________________________________________________________________\n",
      "lstm_38 (LSTM)               (None, 32)                8320      \n",
      "_________________________________________________________________\n",
      "dense_47 (Dense)             (None, 5)                 165       \n",
      "=================================================================\n",
      "Total params: 345,125\n",
      "Trainable params: 345,125\n",
      "Non-trainable params: 0\n",
      "_________________________________________________________________\n"
     ]
    },
    {
     "name": "stderr",
     "output_type": "stream",
     "text": [
      "/usr/local/lib/python3.6/dist-packages/tensorflow/python/framework/indexed_slices.py:434: UserWarning: Converting sparse IndexedSlices to a dense Tensor of unknown shape. This may consume a large amount of memory.\n",
      "  \"Converting sparse IndexedSlices to a dense Tensor of unknown shape. \"\n"
     ]
    },
    {
     "name": "stdout",
     "output_type": "stream",
     "text": [
      "Epoch 1/24\n",
      "1668/1668 [==============================] - 4s 3ms/step - loss: 1.6069 - acc: 0.2974\n",
      "Epoch 2/24\n",
      "1668/1668 [==============================] - 3s 2ms/step - loss: 1.1835 - acc: 0.4592\n",
      "Epoch 3/24\n",
      "1668/1668 [==============================] - 4s 2ms/step - loss: 0.9062 - acc: 0.6205\n",
      "Epoch 4/24\n",
      "1668/1668 [==============================] - 4s 2ms/step - loss: 0.6935 - acc: 0.7326\n",
      "Epoch 5/24\n",
      "1668/1668 [==============================] - 3s 2ms/step - loss: 0.5284 - acc: 0.8435\n",
      "Epoch 6/24\n",
      "1668/1668 [==============================] - 3s 2ms/step - loss: 0.4242 - acc: 0.8933\n",
      "Epoch 7/24\n",
      "1668/1668 [==============================] - 3s 2ms/step - loss: 0.2618 - acc: 0.9532\n",
      "Epoch 8/24\n",
      "1668/1668 [==============================] - 3s 2ms/step - loss: 0.2191 - acc: 0.9502\n",
      "Epoch 9/24\n",
      "1668/1668 [==============================] - 3s 2ms/step - loss: 0.1659 - acc: 0.9628\n",
      "Epoch 10/24\n",
      "1668/1668 [==============================] - 3s 2ms/step - loss: 0.1658 - acc: 0.9568\n",
      "Epoch 11/24\n",
      "1668/1668 [==============================] - 3s 2ms/step - loss: 0.0634 - acc: 0.9970\n",
      "Epoch 12/24\n",
      "1668/1668 [==============================] - 3s 2ms/step - loss: 0.0931 - acc: 0.9826\n",
      "Epoch 13/24\n",
      "1668/1668 [==============================] - 3s 2ms/step - loss: 0.0353 - acc: 0.9994\n",
      "Epoch 14/24\n",
      "1668/1668 [==============================] - 3s 2ms/step - loss: 0.1465 - acc: 0.9670\n",
      "Epoch 15/24\n",
      "1668/1668 [==============================] - 4s 2ms/step - loss: 0.0256 - acc: 0.9994\n",
      "Epoch 16/24\n",
      "1668/1668 [==============================] - 3s 2ms/step - loss: 0.0197 - acc: 0.9994\n",
      "Epoch 17/24\n",
      "1668/1668 [==============================] - 3s 2ms/step - loss: 0.1255 - acc: 0.9706\n",
      "Epoch 18/24\n",
      "1668/1668 [==============================] - 3s 2ms/step - loss: 0.0141 - acc: 0.9994\n",
      "Epoch 19/24\n",
      "1668/1668 [==============================] - 3s 2ms/step - loss: 0.0108 - acc: 1.0000\n",
      "Epoch 20/24\n",
      "1668/1668 [==============================] - 3s 2ms/step - loss: 0.0086 - acc: 1.0000\n",
      "Epoch 21/24\n",
      "1668/1668 [==============================] - 4s 2ms/step - loss: 0.1661 - acc: 0.9628\n",
      "Epoch 22/24\n",
      "1668/1668 [==============================] - 3s 2ms/step - loss: 0.0134 - acc: 0.9982\n",
      "Epoch 23/24\n",
      "1668/1668 [==============================] - 3s 2ms/step - loss: 0.0066 - acc: 1.0000\n",
      "Epoch 24/24\n",
      "1668/1668 [==============================] - 3s 2ms/step - loss: 0.0056 - acc: 1.0000\n"
     ]
    }
   ],
   "source": [
    "model4 = Sequential()\n",
    "model4.add(Embedding(max_words, 32, input_length=maxlen))\n",
    "model4.add(layers.LSTM(32, return_sequences=True))\n",
    "model4.add(layers.LSTM(32, return_sequences=True))\n",
    "model4.add(layers.LSTM(32))\n",
    "model4.add(Dense(5, activation='softmax'))\n",
    "model4.compile(optimizer=RMSprop(lr=0.001), loss='categorical_crossentropy', metrics=['acc'])\n",
    "model4.summary()\n",
    "\n",
    "history = model4.fit(X_train, pd.get_dummies(y_train), epochs=24, batch_size=128)"
   ]
  },
  {
   "cell_type": "code",
   "execution_count": 128,
   "metadata": {
    "colab": {
     "base_uri": "https://localhost:8080/",
     "height": 54
    },
    "colab_type": "code",
    "id": "jWns6bF6gkrf",
    "outputId": "504b1110-ef6f-4ba2-d80a-d2bd58de605b"
   },
   "outputs": [
    {
     "name": "stdout",
     "output_type": "stream",
     "text": [
      "557/557 [==============================] - 1s 1ms/step\n",
      "Test loss, Test acc: [0.7646031503095768, 0.8473967909812927]\n"
     ]
    }
   ],
   "source": [
    "result4 = model4.evaluate(X_test, pd.get_dummies(y_test))\n",
    "print('Test loss, Test acc:', result4)"
   ]
  },
  {
   "cell_type": "markdown",
   "metadata": {
    "colab_type": "text",
    "id": "zulaSCNCiSZT"
   },
   "source": [
    "#### Model #5: A model using an Embedding layer with bidirectional sequential layers"
   ]
  },
  {
   "cell_type": "code",
   "execution_count": 129,
   "metadata": {
    "colab": {
     "base_uri": "https://localhost:8080/",
     "height": 1000
    },
    "colab_type": "code",
    "id": "5wkrWlPqiZUh",
    "outputId": "e44ba7b9-30e4-4eaf-d086-5115d6e1a0ed"
   },
   "outputs": [
    {
     "name": "stdout",
     "output_type": "stream",
     "text": [
      "Model: \"sequential_52\"\n",
      "_________________________________________________________________\n",
      "Layer (type)                 Output Shape              Param #   \n",
      "=================================================================\n",
      "embedding_52 (Embedding)     (None, 100, 32)           320000    \n",
      "_________________________________________________________________\n",
      "bidirectional_10 (Bidirectio (None, 64)                16640     \n",
      "_________________________________________________________________\n",
      "dense_48 (Dense)             (None, 5)                 325       \n",
      "=================================================================\n",
      "Total params: 336,965\n",
      "Trainable params: 336,965\n",
      "Non-trainable params: 0\n",
      "_________________________________________________________________\n"
     ]
    },
    {
     "name": "stderr",
     "output_type": "stream",
     "text": [
      "/usr/local/lib/python3.6/dist-packages/tensorflow/python/framework/indexed_slices.py:434: UserWarning: Converting sparse IndexedSlices to a dense Tensor of unknown shape. This may consume a large amount of memory.\n",
      "  \"Converting sparse IndexedSlices to a dense Tensor of unknown shape. \"\n"
     ]
    },
    {
     "name": "stdout",
     "output_type": "stream",
     "text": [
      "Epoch 1/24\n",
      "1668/1668 [==============================] - 3s 2ms/step - loss: 1.6000 - acc: 0.2740\n",
      "Epoch 2/24\n",
      "1668/1668 [==============================] - 2s 1ms/step - loss: 1.5645 - acc: 0.3963\n",
      "Epoch 3/24\n",
      "1668/1668 [==============================] - 2s 1ms/step - loss: 1.3405 - acc: 0.5042\n",
      "Epoch 4/24\n",
      "1668/1668 [==============================] - 2s 1ms/step - loss: 0.9620 - acc: 0.6757\n",
      "Epoch 5/24\n",
      "1668/1668 [==============================] - 2s 1ms/step - loss: 0.8163 - acc: 0.6367\n",
      "Epoch 6/24\n",
      "1668/1668 [==============================] - 2s 1ms/step - loss: 0.7609 - acc: 0.6247\n",
      "Epoch 7/24\n",
      "1668/1668 [==============================] - 2s 1ms/step - loss: 0.6717 - acc: 0.6882\n",
      "Epoch 8/24\n",
      "1668/1668 [==============================] - 2s 1ms/step - loss: 0.6120 - acc: 0.7488\n",
      "Epoch 9/24\n",
      "1668/1668 [==============================] - 2s 1ms/step - loss: 0.5631 - acc: 0.8291\n",
      "Epoch 10/24\n",
      "1668/1668 [==============================] - 2s 1ms/step - loss: 0.4813 - acc: 0.9305\n",
      "Epoch 11/24\n",
      "1668/1668 [==============================] - 2s 1ms/step - loss: 0.4491 - acc: 0.9215\n",
      "Epoch 12/24\n",
      "1668/1668 [==============================] - 2s 1ms/step - loss: 0.3740 - acc: 0.9760\n",
      "Epoch 13/24\n",
      "1668/1668 [==============================] - 2s 1ms/step - loss: 0.3670 - acc: 0.9508\n",
      "Epoch 14/24\n",
      "1668/1668 [==============================] - 2s 1ms/step - loss: 0.2961 - acc: 0.9784\n",
      "Epoch 15/24\n",
      "1668/1668 [==============================] - 2s 1ms/step - loss: 0.2866 - acc: 0.9580\n",
      "Epoch 16/24\n",
      "1668/1668 [==============================] - 2s 1ms/step - loss: 0.1735 - acc: 0.9838\n",
      "Epoch 17/24\n",
      "1668/1668 [==============================] - 2s 1ms/step - loss: 0.1227 - acc: 0.9826\n",
      "Epoch 18/24\n",
      "1668/1668 [==============================] - 2s 1ms/step - loss: 0.1583 - acc: 0.9574\n",
      "Epoch 19/24\n",
      "1668/1668 [==============================] - 2s 1ms/step - loss: 0.0701 - acc: 0.9952\n",
      "Epoch 20/24\n",
      "1668/1668 [==============================] - 2s 1ms/step - loss: 0.0544 - acc: 0.9964\n",
      "Epoch 21/24\n",
      "1668/1668 [==============================] - 2s 1ms/step - loss: 0.0332 - acc: 0.9982\n",
      "Epoch 22/24\n",
      "1668/1668 [==============================] - 2s 1ms/step - loss: 0.0364 - acc: 0.9916\n",
      "Epoch 23/24\n",
      "1668/1668 [==============================] - 2s 1ms/step - loss: 0.0625 - acc: 0.9856\n",
      "Epoch 24/24\n",
      "1668/1668 [==============================] - 2s 1ms/step - loss: 0.0287 - acc: 0.9946\n"
     ]
    }
   ],
   "source": [
    "model5 = Sequential()\n",
    "model5.add(Embedding(max_words, 32, input_length=maxlen))\n",
    "model5.add(layers.Bidirectional(layers.LSTM(32)))\n",
    "model5.add(Dense(5, activation='softmax'))\n",
    "model5.compile(optimizer=RMSprop(lr=0.001), loss='categorical_crossentropy', metrics=['acc'])\n",
    "model5.summary()\n",
    "\n",
    "history = model5.fit(X_train, pd.get_dummies(y_train), epochs=24, batch_size=128)"
   ]
  },
  {
   "cell_type": "code",
   "execution_count": 139,
   "metadata": {
    "colab": {
     "base_uri": "https://localhost:8080/",
     "height": 54
    },
    "colab_type": "code",
    "id": "8z0F3hvxil8-",
    "outputId": "938d8540-8b5d-4000-f158-9f45871334f2"
   },
   "outputs": [
    {
     "name": "stdout",
     "output_type": "stream",
     "text": [
      "557/557 [==============================] - 0s 491us/step\n",
      "Test loss, Test acc: [0.4640356521632128, 0.8868940472602844]\n"
     ]
    }
   ],
   "source": [
    "result5 = model5.evaluate(X_test, pd.get_dummies(y_test))\n",
    "print('Test loss, Test acc:', result5)"
   ]
  },
  {
   "cell_type": "markdown",
   "metadata": {
    "colab_type": "text",
    "id": "JxPIB0ZZjxAp"
   },
   "source": [
    "#### Model #6: Retrain Model #5(bidirectional) with dropout(Model #5 is the best model among Model #3-5, which has lower test loss and higher test accuracy)"
   ]
  },
  {
   "cell_type": "code",
   "execution_count": 137,
   "metadata": {
    "colab": {
     "base_uri": "https://localhost:8080/",
     "height": 1000
    },
    "colab_type": "code",
    "id": "26nIVST2kTQj",
    "outputId": "bd7d5df6-b7e5-42d7-976c-391e02ab641a"
   },
   "outputs": [
    {
     "name": "stdout",
     "output_type": "stream",
     "text": [
      "Model: \"sequential_56\"\n",
      "_________________________________________________________________\n",
      "Layer (type)                 Output Shape              Param #   \n",
      "=================================================================\n",
      "embedding_56 (Embedding)     (None, 100, 32)           320000    \n",
      "_________________________________________________________________\n",
      "bidirectional_14 (Bidirectio (None, 64)                16640     \n",
      "_________________________________________________________________\n",
      "dense_52 (Dense)             (None, 5)                 325       \n",
      "=================================================================\n",
      "Total params: 336,965\n",
      "Trainable params: 336,965\n",
      "Non-trainable params: 0\n",
      "_________________________________________________________________\n"
     ]
    },
    {
     "name": "stderr",
     "output_type": "stream",
     "text": [
      "/usr/local/lib/python3.6/dist-packages/tensorflow/python/framework/indexed_slices.py:434: UserWarning: Converting sparse IndexedSlices to a dense Tensor of unknown shape. This may consume a large amount of memory.\n",
      "  \"Converting sparse IndexedSlices to a dense Tensor of unknown shape. \"\n"
     ]
    },
    {
     "name": "stdout",
     "output_type": "stream",
     "text": [
      "Epoch 1/36\n",
      "1668/1668 [==============================] - 3s 2ms/step - loss: 1.6005 - acc: 0.2542\n",
      "Epoch 2/36\n",
      "1668/1668 [==============================] - 2s 1ms/step - loss: 1.5582 - acc: 0.2800\n",
      "Epoch 3/36\n",
      "1668/1668 [==============================] - 2s 1ms/step - loss: 1.3734 - acc: 0.5126\n",
      "Epoch 4/36\n",
      "1668/1668 [==============================] - 2s 1ms/step - loss: 1.1472 - acc: 0.5839\n",
      "Epoch 5/36\n",
      "1668/1668 [==============================] - 2s 1ms/step - loss: 1.0643 - acc: 0.6013\n",
      "Epoch 6/36\n",
      "1668/1668 [==============================] - 2s 1ms/step - loss: 1.0022 - acc: 0.6253\n",
      "Epoch 7/36\n",
      "1668/1668 [==============================] - 2s 1ms/step - loss: 1.0094 - acc: 0.5965\n",
      "Epoch 8/36\n",
      "1668/1668 [==============================] - 2s 1ms/step - loss: 0.9826 - acc: 0.6289\n",
      "Epoch 9/36\n",
      "1668/1668 [==============================] - 2s 1ms/step - loss: 0.9737 - acc: 0.6121\n",
      "Epoch 10/36\n",
      "1668/1668 [==============================] - 2s 1ms/step - loss: 0.8676 - acc: 0.6631\n",
      "Epoch 11/36\n",
      "1668/1668 [==============================] - 2s 1ms/step - loss: 0.9013 - acc: 0.6577\n",
      "Epoch 12/36\n",
      "1668/1668 [==============================] - 2s 1ms/step - loss: 0.8773 - acc: 0.7170\n",
      "Epoch 13/36\n",
      "1668/1668 [==============================] - 2s 1ms/step - loss: 0.8267 - acc: 0.7038\n",
      "Epoch 14/36\n",
      "1668/1668 [==============================] - 2s 1ms/step - loss: 0.7320 - acc: 0.7866\n",
      "Epoch 15/36\n",
      "1668/1668 [==============================] - 2s 1ms/step - loss: 0.6742 - acc: 0.8028\n",
      "Epoch 16/36\n",
      "1668/1668 [==============================] - 2s 1ms/step - loss: 0.5930 - acc: 0.8441\n",
      "Epoch 17/36\n",
      "1668/1668 [==============================] - 2s 1ms/step - loss: 0.6001 - acc: 0.8153\n",
      "Epoch 18/36\n",
      "1668/1668 [==============================] - 2s 1ms/step - loss: 0.5492 - acc: 0.8519\n",
      "Epoch 19/36\n",
      "1668/1668 [==============================] - 2s 1ms/step - loss: 0.4881 - acc: 0.8675\n",
      "Epoch 20/36\n",
      "1668/1668 [==============================] - 2s 1ms/step - loss: 0.4572 - acc: 0.8891\n",
      "Epoch 21/36\n",
      "1668/1668 [==============================] - 2s 1ms/step - loss: 0.3930 - acc: 0.9125\n",
      "Epoch 22/36\n",
      "1668/1668 [==============================] - 2s 1ms/step - loss: 0.3785 - acc: 0.8981\n",
      "Epoch 23/36\n",
      "1668/1668 [==============================] - 2s 1ms/step - loss: 0.3163 - acc: 0.9239\n",
      "Epoch 24/36\n",
      "1668/1668 [==============================] - 2s 1ms/step - loss: 0.2630 - acc: 0.9394\n",
      "Epoch 25/36\n",
      "1668/1668 [==============================] - 2s 1ms/step - loss: 0.2683 - acc: 0.9436\n",
      "Epoch 26/36\n",
      "1668/1668 [==============================] - 2s 1ms/step - loss: 0.2432 - acc: 0.9400\n",
      "Epoch 27/36\n",
      "1668/1668 [==============================] - 2s 1ms/step - loss: 0.2205 - acc: 0.9562\n",
      "Epoch 28/36\n",
      "1668/1668 [==============================] - 2s 1ms/step - loss: 0.2078 - acc: 0.9478\n",
      "Epoch 29/36\n",
      "1668/1668 [==============================] - 2s 1ms/step - loss: 0.1844 - acc: 0.9574\n",
      "Epoch 30/36\n",
      "1668/1668 [==============================] - 2s 1ms/step - loss: 0.1309 - acc: 0.9796\n",
      "Epoch 31/36\n",
      "1668/1668 [==============================] - 2s 1ms/step - loss: 0.1261 - acc: 0.9766\n",
      "Epoch 32/36\n",
      "1668/1668 [==============================] - 2s 1ms/step - loss: 0.1317 - acc: 0.9724\n",
      "Epoch 33/36\n",
      "1668/1668 [==============================] - 2s 1ms/step - loss: 0.1073 - acc: 0.9814\n",
      "Epoch 34/36\n",
      "1668/1668 [==============================] - 2s 1ms/step - loss: 0.0914 - acc: 0.9868\n",
      "Epoch 35/36\n",
      "1668/1668 [==============================] - 2s 1ms/step - loss: 0.0944 - acc: 0.9790\n",
      "Epoch 36/36\n",
      "1668/1668 [==============================] - 2s 1ms/step - loss: 0.0657 - acc: 0.9862\n"
     ]
    }
   ],
   "source": [
    "model6 = Sequential()\n",
    "model6.add(Embedding(max_words, 32, input_length=maxlen))\n",
    "model6.add(layers.Bidirectional(layers.LSTM(32, dropout=0.2, recurrent_dropout=0.2))) \n",
    "model6.add(Dense(5, activation='softmax'))\n",
    "model6.compile(optimizer=RMSprop(lr=0.001), loss='categorical_crossentropy', metrics=['acc'])\n",
    "model6.summary()\n",
    "\n",
    "history = model6.fit(X_train, pd.get_dummies(y_train), epochs=36, batch_size=128)"
   ]
  },
  {
   "cell_type": "code",
   "execution_count": 138,
   "metadata": {
    "colab": {
     "base_uri": "https://localhost:8080/",
     "height": 54
    },
    "colab_type": "code",
    "id": "3_BcuezDkyAE",
    "outputId": "0ed0d9b6-4f05-4199-ba89-40a1d764413a"
   },
   "outputs": [
    {
     "name": "stdout",
     "output_type": "stream",
     "text": [
      "557/557 [==============================] - 0s 814us/step\n",
      "Test loss, Test acc: [0.44903707680839183, 0.8815080523490906]\n"
     ]
    }
   ],
   "source": [
    "result6 = model6.evaluate(X_test, pd.get_dummies(y_test))\n",
    "print('Test loss, Test acc:', result6)"
   ]
  },
  {
   "cell_type": "markdown",
   "metadata": {
    "colab_type": "text",
    "id": "DIMVrCoXp8wb"
   },
   "source": [
    "### Further Discussion\n",
    "---\n",
    "#### 1. In this project, the best model is Model #2, which uses an Embedding layer with Conv1d Layers.  \n",
    "#### 2. For further improving my model, I think there are several ways, including\n",
    "1) **Use Glove embedding matrix weights.**Words not found in Glove embedding index will be all-zeros.   \n",
    "2) **Add more layers to increase the depth of the model**, making the model more accurately earning the description as a deep learning technique.  \n",
    "3) **Combining different kinds of layers in one single model**, in order to make the model more comprehensive.  \n"
   ]
  },
  {
   "cell_type": "markdown",
   "metadata": {},
   "source": [
    "#### The url of public repo on Github: https://github.com/3scman/Adv_ML_Repo_ChengMan/tree/master/HW03"
   ]
  }
 ],
 "metadata": {
  "colab": {
   "collapsed_sections": [],
   "name": "AdvML_HW3_ChengMan.ipynb",
   "provenance": []
  },
  "kernelspec": {
   "display_name": "Python 3",
   "language": "python",
   "name": "python3"
  },
  "language_info": {
   "codemirror_mode": {
    "name": "ipython",
    "version": 3
   },
   "file_extension": ".py",
   "mimetype": "text/x-python",
   "name": "python",
   "nbconvert_exporter": "python",
   "pygments_lexer": "ipython3",
   "version": "3.7.3"
  }
 },
 "nbformat": 4,
 "nbformat_minor": 1
}
